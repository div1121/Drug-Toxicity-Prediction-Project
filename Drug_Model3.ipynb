{
 "cells": [
  {
   "cell_type": "code",
   "execution_count": 18,
   "metadata": {},
   "outputs": [],
   "source": [
    "import tensorflow as tf\n",
    "import numpy as np\n",
    "import matplotlib.pyplot as plt\n",
    "import random\n",
    "import csv\n",
    "import os\n",
    "import collections\n",
    "import time\n",
    "import math\n",
    "import pickle\n",
    "import re\n",
    "from tensorflow import keras\n",
    "from tensorflow.keras.regularizers import l2\n",
    "from tensorflow.keras.models import Sequential\n",
    "from tensorflow.keras.layers import BatchNormalization\n",
    "from tensorflow.keras.layers import Dropout\n",
    "from tensorflow.keras.layers import InputLayer, Input\n",
    "from tensorflow.keras.layers import Reshape, MaxPooling2D\n",
    "from tensorflow.keras.layers import Conv2D, Dense, Flatten\n",
    "from tensorflow.keras.optimizers import Adam\n",
    "from tensorflow.keras.optimizers import SGD\n",
    "from tensorflow.python.keras.models import load_model"
   ]
  },
  {
   "cell_type": "code",
   "execution_count": 2,
   "metadata": {},
   "outputs": [
    {
     "data": {
      "text/plain": [
       "'1.15.4'"
      ]
     },
     "execution_count": 2,
     "metadata": {},
     "output_type": "execute_result"
    }
   ],
   "source": [
    "tf.__version__"
   ]
  },
  {
   "cell_type": "code",
   "execution_count": 3,
   "metadata": {},
   "outputs": [],
   "source": [
    "train_labels = open(\"SR-ARE-train/names_labels.txt\",\"r\")\n",
    "content = train_labels.read()\n",
    "#print(content)"
   ]
  },
  {
   "cell_type": "code",
   "execution_count": 4,
   "metadata": {},
   "outputs": [
    {
     "name": "stdout",
     "output_type": "stream",
     "text": [
      "6069 1098\n"
     ]
    }
   ],
   "source": [
    "content_list = re.split(\",|\\n\",content)\n",
    "#print(content_list)\n",
    "#print(len(content_list))\n",
    "\n",
    "print(content_list.count(\"0\"),content_list.count(\"1\"))"
   ]
  },
  {
   "cell_type": "code",
   "execution_count": 5,
   "metadata": {},
   "outputs": [],
   "source": [
    "drug_dict = {content_list[2*i]:float(content_list[2*i+1]) for i in range(len(content_list)//2)}\n",
    "#print(drug_dict)\n",
    "#print(len(drug_dict))"
   ]
  },
  {
   "cell_type": "code",
   "execution_count": 6,
   "metadata": {},
   "outputs": [],
   "source": [
    "train_smiles = open(\"SR-ARE-train/names_smiles.txt\",\"r\")\n",
    "dtent = train_smiles.read()\n",
    "#print(dtent)"
   ]
  },
  {
   "cell_type": "code",
   "execution_count": 7,
   "metadata": {},
   "outputs": [],
   "source": [
    "dtent_list = re.split(\",|\\n\",dtent)\n",
    "drug_name_dict = {dtent_list[2*i]:dtent_list[2*i+1] for i in range(len(dtent_list)//2)}\n",
    "#print(drug_name_dict)\n",
    "#print(len(drug_name_dict))"
   ]
  },
  {
   "cell_type": "code",
   "execution_count": 8,
   "metadata": {},
   "outputs": [],
   "source": [
    "train_one_hot = open(\"SR-ARE-train/names_onehots.pickle\",\"rb\")\n",
    "rtent = pickle.load(train_one_hot)\n",
    "#print(rtent)"
   ]
  },
  {
   "cell_type": "code",
   "execution_count": 9,
   "metadata": {},
   "outputs": [
    {
     "name": "stdout",
     "output_type": "stream",
     "text": [
      "<class 'dict'>\n",
      "<class 'numpy.ndarray'>\n",
      "(7167, 70, 325)\n"
     ]
    }
   ],
   "source": [
    "print(type(rtent))\n",
    "print(type(rtent[\"onehots\"]))\n",
    "print(rtent[\"onehots\"].shape)\n"
   ]
  },
  {
   "cell_type": "code",
   "execution_count": 10,
   "metadata": {},
   "outputs": [
    {
     "name": "stdout",
     "output_type": "stream",
     "text": [
      "<class 'list'>\n"
     ]
    }
   ],
   "source": [
    "print(type(rtent[\"names\"]))"
   ]
  },
  {
   "cell_type": "code",
   "execution_count": 11,
   "metadata": {},
   "outputs": [
    {
     "name": "stdout",
     "output_type": "stream",
     "text": [
      "(7167, 70, 325)\n",
      "(7167,)\n"
     ]
    }
   ],
   "source": [
    "x_train = rtent[\"onehots\"]\n",
    "label = rtent[\"names\"]\n",
    "zlabel = [drug_dict[label[i]] for i in range(len(label))]\n",
    "#print(len(zlabel))\n",
    "y_train = np.array(zlabel,float)\n",
    "print(x_train.shape)\n",
    "print(y_train.shape)\n"
   ]
  },
  {
   "cell_type": "code",
   "execution_count": 12,
   "metadata": {},
   "outputs": [
    {
     "name": "stdout",
     "output_type": "stream",
     "text": [
      "[False  True False ... False False  True]\n",
      "[1 1 1 ... 1 1 1]\n",
      "1098\n",
      "1098\n",
      "6069\n"
     ]
    }
   ],
   "source": [
    "correct = y_train >= 0.5\n",
    "print(correct)\n",
    "true_label = correct[correct].astype(int)\n",
    "print(true_label)\n",
    "print(len(true_label))\n",
    "true_find = x_train[correct]\n",
    "print(len(true_find))\n",
    "\n",
    "incorrect = y_train <= 0.5\n",
    "false_label = incorrect[incorrect].astype(int)\n",
    "false_find = x_train[incorrect]\n",
    "print(len(false_label))"
   ]
  },
  {
   "cell_type": "code",
   "execution_count": 13,
   "metadata": {},
   "outputs": [
    {
     "name": "stdout",
     "output_type": "stream",
     "text": [
      "0.00016477179106936892 0.0009107468123861566\n"
     ]
    }
   ],
   "source": [
    "weight_for_zero = 1.0 / len(false_label)\n",
    "weight_for_one = 1.0 / len(true_label)\n",
    "print(weight_for_zero,weight_for_one)"
   ]
  },
  {
   "cell_type": "code",
   "execution_count": 15,
   "metadata": {},
   "outputs": [
    {
     "name": "stdout",
     "output_type": "stream",
     "text": [
      "70\n",
      "325\n",
      "(70, 325)\n",
      "(70, 325, 1)\n"
     ]
    }
   ],
   "source": [
    "drug_height = x_train.shape[1]\n",
    "print(drug_height)\n",
    "drug_width = x_train.shape[2]\n",
    "print(drug_width)\n",
    "drug_shape = (drug_height , drug_width)\n",
    "print(drug_shape)\n",
    "drug_full_shape = (drug_height , drug_width,1)\n",
    "print(drug_full_shape)\n",
    "no_class = 1\n",
    "no_channel = 1"
   ]
  },
  {
   "cell_type": "code",
   "execution_count": 36,
   "metadata": {},
   "outputs": [],
   "source": [
    "def find_formula(dictlist,namelabel,y):\n",
    "    for i in range(9):\n",
    "        print(namelabel[i],dictlist[namelabel[i]],y[i])"
   ]
  },
  {
   "cell_type": "code",
   "execution_count": 14,
   "metadata": {},
   "outputs": [
    {
     "name": "stdout",
     "output_type": "stream",
     "text": [
      "NCGC00254346-01 CC(C)=CCC\\C(C)=C/CO 0.0\n",
      "NCGC00254668-01 FC1=CC=CC(F)=C1C(=O)NC(=O)NC2=C(F)C=C(OC3=C(Cl)C=C(C=C3)C(F)(F)F)C=C2 1.0\n",
      "NCGC00015646-05 Cl.CC1=CNN=C1 0.0\n",
      "NCGC00255698-01 CC1(C)[C@H](C=C(Cl)Cl)[C@@H]1C(=O)O[C@@H](C#N)C2=CC=CC(OC3=CC=CC=C3)=C2 0.0\n",
      "NCGC00160628-03 C[C@@H]1O[C@@H](OC[C@H]2O[C@@H](OC3=C(OC4=C(C3=O)C(O)=CC(O)=C4)C5=CC(O)=C(O)C=C5)[C@H](O)[C@@H](O)[C@@H]2O)[C@H](O)[C@H](O)[C@H]1O 0.0\n",
      "NCGC00255567-01 CCCCCCOC1=C(C=CC=C1)C(O)=O 0.0\n",
      "NCGC00262943-01 OCCNCCO.CC(OC(=O)C1(C)CCC(C(O)=O)C1(C)C)C2=CC=C(C)C=C2 0.0\n",
      "NCGC00256129-01 CCCCOC(=O)CCCCCCCC(=O)OCCCC 0.0\n",
      "NCGC00016666-06 Br.COC1=C2CN(C)CCC2=CC3=C1OCO3 0.0\n"
     ]
    }
   ],
   "source": [
    "find_formula(drug_name_dict,label[0:9],y_train[0:9])"
   ]
  },
  {
   "cell_type": "code",
   "execution_count": 37,
   "metadata": {},
   "outputs": [],
   "source": [
    "def find_example_error(pred,dictlist,namelabel,y):\n",
    "    incorrect = (pred != y)\n",
    "    namelabel = namelabel[incorrect]\n",
    "    pred = pred[incorrect]\n",
    "    find_formula(dictlist,namelabel[0:9],y[0:9])"
   ]
  },
  {
   "cell_type": "code",
   "execution_count": 19,
   "metadata": {},
   "outputs": [
    {
     "data": {
      "text/plain": [
       "<tensorflow.python.keras.regularizers.L1L2 at 0x2573b0db550>"
      ]
     },
     "execution_count": 19,
     "metadata": {},
     "output_type": "execute_result"
    }
   ],
   "source": []
  },
  {
   "cell_type": "code",
   "execution_count": 16,
   "metadata": {},
   "outputs": [
    {
     "name": "stdout",
     "output_type": "stream",
     "text": [
      "WARNING:tensorflow:From C:\\Users\\user\\Anaconda3\\envs\\tf\\lib\\site-packages\\tensorflow_core\\python\\ops\\resource_variable_ops.py:1630: calling BaseResourceVariable.__init__ (from tensorflow.python.ops.resource_variable_ops) with constraint is deprecated and will be removed in a future version.\n",
      "Instructions for updating:\n",
      "If using Keras pass *_constraint arguments to layers.\n"
     ]
    }
   ],
   "source": [
    "model = Sequential()\n",
    "model.add(InputLayer(input_shape=(drug_height,drug_width,)))\n",
    "\n",
    "model.add(Reshape(drug_full_shape))\n",
    "\n",
    "model.add(Conv2D(kernel_size=(1,16),strides=1,filters=8,padding='same',activation='relu',name=\"conv1\",kernel_regularizer=l2(0.01), bias_regularizer=l2(0.01)))\n",
    "model.add(BatchNormalization())\n",
    "model.add(MaxPooling2D(pool_size=(1,4), strides=(1,4),padding='same'))\n",
    "\n",
    "model.add(Conv2D(kernel_size=(1,16),strides=1,filters=16,padding='same',activation='relu',name=\"conv2\",kernel_regularizer=l2(0.01), bias_regularizer=l2(0.01)))\n",
    "model.add(BatchNormalization())\n",
    "model.add(MaxPooling2D(pool_size=(1,4), strides=(1,4),padding='same'))\n",
    "\n",
    "model.add(Conv2D(kernel_size=(1,16),strides=1,filters=32,padding='same',activation='relu',name=\"conv3\",kernel_regularizer=l2(0.01), bias_regularizer=l2(0.01)))\n",
    "model.add(BatchNormalization())\n",
    "model.add(MaxPooling2D(pool_size=(1,4), strides=(1,4),padding='same'))\n",
    "\n",
    "model.add(Flatten())\n",
    "\n",
    "model.add(Dense(no_class,activation=\"sigmoid\",kernel_regularizer=l2(0.01), bias_regularizer=l2(0.01)))\n",
    "\n"
   ]
  },
  {
   "cell_type": "code",
   "execution_count": 17,
   "metadata": {},
   "outputs": [
    {
     "name": "stdout",
     "output_type": "stream",
     "text": [
      "Model: \"sequential\"\n",
      "_________________________________________________________________\n",
      "Layer (type)                 Output Shape              Param #   \n",
      "=================================================================\n",
      "reshape (Reshape)            (None, 70, 325, 1)        0         \n",
      "_________________________________________________________________\n",
      "conv1 (Conv2D)               (None, 70, 325, 8)        136       \n",
      "_________________________________________________________________\n",
      "batch_normalization (BatchNo (None, 70, 325, 8)        32        \n",
      "_________________________________________________________________\n",
      "max_pooling2d (MaxPooling2D) (None, 70, 82, 8)         0         \n",
      "_________________________________________________________________\n",
      "conv2 (Conv2D)               (None, 70, 82, 16)        2064      \n",
      "_________________________________________________________________\n",
      "batch_normalization_1 (Batch (None, 70, 82, 16)        64        \n",
      "_________________________________________________________________\n",
      "max_pooling2d_1 (MaxPooling2 (None, 70, 21, 16)        0         \n",
      "_________________________________________________________________\n",
      "conv3 (Conv2D)               (None, 70, 21, 32)        8224      \n",
      "_________________________________________________________________\n",
      "batch_normalization_2 (Batch (None, 70, 21, 32)        128       \n",
      "_________________________________________________________________\n",
      "max_pooling2d_2 (MaxPooling2 (None, 70, 6, 32)         0         \n",
      "_________________________________________________________________\n",
      "flatten (Flatten)            (None, 13440)             0         \n",
      "_________________________________________________________________\n",
      "dense (Dense)                (None, 1)                 13441     \n",
      "=================================================================\n",
      "Total params: 24,089\n",
      "Trainable params: 23,977\n",
      "Non-trainable params: 112\n",
      "_________________________________________________________________\n",
      "None\n"
     ]
    }
   ],
   "source": [
    "print(model.summary())"
   ]
  },
  {
   "cell_type": "code",
   "execution_count": 19,
   "metadata": {},
   "outputs": [],
   "source": [
    "optimizer = SGD(lr=0.01)"
   ]
  },
  {
   "cell_type": "code",
   "execution_count": 20,
   "metadata": {},
   "outputs": [],
   "source": [
    "metrics = [\n",
    "    keras.metrics.BinaryAccuracy(name=\"accuracy\"),\n",
    "    keras.metrics.FalseNegatives(name=\"fn\"),\n",
    "    keras.metrics.FalsePositives(name=\"fp\"),\n",
    "    keras.metrics.TrueNegatives(name=\"tn\"),\n",
    "    keras.metrics.TruePositives(name=\"tp\"),\n",
    "    keras.metrics.Precision(name=\"precision\"),\n",
    "    keras.metrics.Recall(name=\"recall\"),\n",
    "]"
   ]
  },
  {
   "cell_type": "code",
   "execution_count": 21,
   "metadata": {},
   "outputs": [],
   "source": [
    "class_weight = {0: weight_for_zero, 1: weight_for_one}"
   ]
  },
  {
   "cell_type": "code",
   "execution_count": 22,
   "metadata": {},
   "outputs": [
    {
     "name": "stdout",
     "output_type": "stream",
     "text": [
      "WARNING:tensorflow:From C:\\Users\\user\\Anaconda3\\envs\\tf\\lib\\site-packages\\tensorflow_core\\python\\ops\\nn_impl.py:183: where (from tensorflow.python.ops.array_ops) is deprecated and will be removed in a future version.\n",
      "Instructions for updating:\n",
      "Use tf.where in 2.0, which has the same broadcast rule as np.where\n"
     ]
    }
   ],
   "source": [
    "model.compile(optimizer=optimizer,loss=\"binary_crossentropy\", metrics=metrics)"
   ]
  },
  {
   "cell_type": "code",
   "execution_count": 45,
   "metadata": {},
   "outputs": [
    {
     "name": "stdout",
     "output_type": "stream",
     "text": [
      "Train on 7167 samples, validate on 234 samples\n",
      "Epoch 1/5\n",
      "7167/7167 [==============================] - 171s 24ms/sample - loss: 0.2225 - accuracy: 0.5834 - fn: 459.0000 - fp: 2527.0000 - tn: 3542.0000 - tp: 639.0000 - precision: 0.2018 - recall: 0.5820 - val_loss: 1.1624 - val_accuracy: 0.4615 - val_fn: 24.0000 - val_fp: 102.0000 - val_tn: 84.0000 - val_tp: 24.0000 - val_precision: 0.1905 - val_recall: 0.5000\n",
      "Epoch 2/5\n",
      "7167/7167 [==============================] - 174s 24ms/sample - loss: 0.2176 - accuracy: 0.5864 - fn: 460.0000 - fp: 2504.0000 - tn: 3565.0000 - tp: 638.0000 - precision: 0.2031 - recall: 0.5811 - val_loss: 1.1540 - val_accuracy: 0.4530 - val_fn: 24.0000 - val_fp: 104.0000 - val_tn: 82.0000 - val_tp: 24.0000 - val_precision: 0.1875 - val_recall: 0.5000\n",
      "Epoch 3/5\n",
      "7167/7167 [==============================] - 168s 23ms/sample - loss: 0.2128 - accuracy: 0.5926 - fn: 472.0000 - fp: 2448.0000 - tn: 3621.0000 - tp: 626.0000 - precision: 0.2036 - recall: 0.5701 - val_loss: 1.1481 - val_accuracy: 0.4658 - val_fn: 21.0000 - val_fp: 104.0000 - val_tn: 82.0000 - val_tp: 27.0000 - val_precision: 0.2061 - val_recall: 0.5625\n",
      "Epoch 4/5\n",
      "7167/7167 [==============================] - 168s 23ms/sample - loss: 0.2080 - accuracy: 0.5976 - fn: 460.0000 - fp: 2424.0000 - tn: 3645.0000 - tp: 638.0000 - precision: 0.2084 - recall: 0.5811 - val_loss: 1.1418 - val_accuracy: 0.4615 - val_fn: 21.0000 - val_fp: 105.0000 - val_tn: 81.0000 - val_tp: 27.0000 - val_precision: 0.2045 - val_recall: 0.5625\n",
      "Epoch 5/5\n",
      "7167/7167 [==============================] - 172s 24ms/sample - loss: 0.2034 - accuracy: 0.5966 - fn: 447.0000 - fp: 2444.0000 - tn: 3625.0000 - tp: 651.0000 - precision: 0.2103 - recall: 0.5929 - val_loss: 1.1306 - val_accuracy: 0.4658 - val_fn: 21.0000 - val_fp: 104.0000 - val_tn: 82.0000 - val_tp: 27.0000 - val_precision: 0.2061 - val_recall: 0.5625\n"
     ]
    },
    {
     "data": {
      "text/plain": [
       "<tensorflow.python.keras.callbacks.History at 0x29a8cdc8fd0>"
      ]
     },
     "execution_count": 45,
     "metadata": {},
     "output_type": "execute_result"
    }
   ],
   "source": [
    "model.fit(x=x_train, y=y_train, epochs=5, batch_size=128,class_weight=class_weight,validation_data=(x_test, y_test))"
   ]
  },
  {
   "cell_type": "code",
   "execution_count": null,
   "metadata": {},
   "outputs": [],
   "source": [
    "#30 epochs"
   ]
  },
  {
   "cell_type": "code",
   "execution_count": 23,
   "metadata": {},
   "outputs": [],
   "source": [
    "test_labels = open(\"SR-ARE-test/names_labels.txt\",\"r\")\n",
    "ttcontent = test_labels.read()"
   ]
  },
  {
   "cell_type": "code",
   "execution_count": 24,
   "metadata": {},
   "outputs": [
    {
     "name": "stdout",
     "output_type": "stream",
     "text": [
      "186 48\n"
     ]
    }
   ],
   "source": [
    "ttcontent_list = re.split(\",|\\n\",ttcontent)\n",
    "#print(ttcontent_list)\n",
    "#print(len(ttcontent_list))\n",
    "print(ttcontent_list.count(\"0\"),ttcontent_list.count(\"1\"))"
   ]
  },
  {
   "cell_type": "code",
   "execution_count": 25,
   "metadata": {},
   "outputs": [],
   "source": [
    "ttdrug_dict = {ttcontent_list[2*i]:float(ttcontent_list[2*i+1]) for i in range(len(ttcontent_list)//2)}\n",
    "#print(drug_dict)\n",
    "#print(len(drug_dict))"
   ]
  },
  {
   "cell_type": "code",
   "execution_count": 26,
   "metadata": {},
   "outputs": [],
   "source": [
    "test_smiles = open(\"SR-ARE-test/names_smiles.txt\",\"r\")\n",
    "ttdtent = test_smiles.read()\n",
    "#print(ttdtent)"
   ]
  },
  {
   "cell_type": "code",
   "execution_count": 27,
   "metadata": {},
   "outputs": [
    {
     "name": "stdout",
     "output_type": "stream",
     "text": [
      "234\n"
     ]
    }
   ],
   "source": [
    "ttdtent_list = re.split(\",|\\n\",ttdtent)\n",
    "ttdrug_name_dict = {ttdtent_list[2*i]:ttdtent_list[2*i+1] for i in range(len(ttdtent_list)//2)}\n",
    "#print(ttdrug_name_dict)\n",
    "print(len(ttdrug_name_dict))"
   ]
  },
  {
   "cell_type": "code",
   "execution_count": 28,
   "metadata": {},
   "outputs": [],
   "source": [
    "test_one_hot = open(\"SR-ARE-test/names_onehots.pickle\",\"rb\")\n",
    "ttrtent = pickle.load(test_one_hot)\n",
    "#print(rtent)"
   ]
  },
  {
   "cell_type": "code",
   "execution_count": 29,
   "metadata": {},
   "outputs": [],
   "source": [
    "x_test = ttrtent[\"onehots\"]\n",
    "ttlabel = ttrtent[\"names\"]\n",
    "ttzlabel = [ttdrug_dict[ttlabel[i]] for i in range(len(ttlabel))]\n",
    "#print(len(zlabel))\n",
    "y_test = np.array(ttzlabel,float)"
   ]
  },
  {
   "cell_type": "code",
   "execution_count": 46,
   "metadata": {},
   "outputs": [
    {
     "name": "stdout",
     "output_type": "stream",
     "text": [
      "234/234 [==============================] - 1s 2ms/sample - loss: 1.1306 - accuracy: 0.4658 - fn: 21.0000 - fp: 104.0000 - tn: 82.0000 - tp: 27.0000 - precision: 0.2061 - recall: 0.5625\n"
     ]
    }
   ],
   "source": [
    "result = model.evaluate(x=x_test,y=y_test)"
   ]
  },
  {
   "cell_type": "code",
   "execution_count": 31,
   "metadata": {},
   "outputs": [
    {
     "name": "stdout",
     "output_type": "stream",
     "text": [
      "loss 1.0538651107722878\n",
      "accuracy 0.36324787\n",
      "fn 27.0\n",
      "fp 122.0\n",
      "tn 64.0\n",
      "tp 21.0\n",
      "precision 0.14685315\n",
      "recall 0.4375\n"
     ]
    }
   ],
   "source": [
    "for name, value in zip(model.metrics_names, result):\n",
    "    print(name, value)"
   ]
  },
  {
   "cell_type": "code",
   "execution_count": 47,
   "metadata": {},
   "outputs": [],
   "source": [
    "## save model\n",
    "path_model = 'model/model3-3.keras'\n",
    "model.save(path_model)"
   ]
  },
  {
   "cell_type": "code",
   "execution_count": 24,
   "metadata": {},
   "outputs": [
    {
     "name": "stdout",
     "output_type": "stream",
     "text": [
      "WARNING:tensorflow:From C:\\Users\\user\\Anaconda3\\envs\\tf\\lib\\site-packages\\tensorflow_core\\python\\ops\\init_ops.py:97: calling GlorotUniform.__init__ (from tensorflow.python.ops.init_ops) with dtype is deprecated and will be removed in a future version.\n",
      "Instructions for updating:\n",
      "Call initializer instance with the dtype argument instead of passing it to the constructor\n",
      "WARNING:tensorflow:From C:\\Users\\user\\Anaconda3\\envs\\tf\\lib\\site-packages\\tensorflow_core\\python\\ops\\init_ops.py:97: calling Zeros.__init__ (from tensorflow.python.ops.init_ops) with dtype is deprecated and will be removed in a future version.\n",
      "Instructions for updating:\n",
      "Call initializer instance with the dtype argument instead of passing it to the constructor\n",
      "WARNING:tensorflow:From C:\\Users\\user\\Anaconda3\\envs\\tf\\lib\\site-packages\\tensorflow_core\\python\\ops\\resource_variable_ops.py:1630: calling BaseResourceVariable.__init__ (from tensorflow.python.ops.resource_variable_ops) with constraint is deprecated and will be removed in a future version.\n",
      "Instructions for updating:\n",
      "If using Keras pass *_constraint arguments to layers.\n",
      "WARNING:tensorflow:From C:\\Users\\user\\Anaconda3\\envs\\tf\\lib\\site-packages\\tensorflow_core\\python\\ops\\init_ops.py:97: calling Ones.__init__ (from tensorflow.python.ops.init_ops) with dtype is deprecated and will be removed in a future version.\n",
      "Instructions for updating:\n",
      "Call initializer instance with the dtype argument instead of passing it to the constructor\n",
      "WARNING:tensorflow:From C:\\Users\\user\\Anaconda3\\envs\\tf\\lib\\site-packages\\tensorflow_core\\python\\ops\\nn_impl.py:183: where (from tensorflow.python.ops.array_ops) is deprecated and will be removed in a future version.\n",
      "Instructions for updating:\n",
      "Use tf.where in 2.0, which has the same broadcast rule as np.where\n"
     ]
    }
   ],
   "source": [
    "path_model = 'model/model3-2.keras'\n",
    "model = tf.keras.models.load_model(path_model)"
   ]
  },
  {
   "cell_type": "code",
   "execution_count": 37,
   "metadata": {},
   "outputs": [
    {
     "name": "stdout",
     "output_type": "stream",
     "text": [
      "[[0.5103441 ]\n",
      " [0.5074876 ]\n",
      " [0.51405525]\n",
      " [0.50875705]\n",
      " [0.50796735]\n",
      " [0.5097908 ]\n",
      " [0.5140344 ]\n",
      " [0.5122361 ]\n",
      " [0.5159416 ]\n",
      " [0.5135099 ]\n",
      " [0.5073363 ]\n",
      " [0.5059578 ]\n",
      " [0.51180446]\n",
      " [0.53566784]\n",
      " [0.51156247]\n",
      " [0.5101705 ]\n",
      " [0.5139971 ]\n",
      " [0.50937355]\n",
      " [0.5125999 ]\n",
      " [0.50897247]\n",
      " [0.50649524]\n",
      " [0.5098321 ]\n",
      " [0.5137751 ]\n",
      " [0.5126956 ]\n",
      " [0.518037  ]\n",
      " [0.513056  ]\n",
      " [0.51674235]\n",
      " [0.5099023 ]\n",
      " [0.5067698 ]\n",
      " [0.51355964]\n",
      " [0.5074271 ]\n",
      " [0.50878876]\n",
      " [0.5114385 ]\n",
      " [0.5116914 ]\n",
      " [0.51758784]\n",
      " [0.50911534]\n",
      " [0.5120421 ]\n",
      " [0.50612015]\n",
      " [0.5143452 ]\n",
      " [0.50985754]\n",
      " [0.51492786]\n",
      " [0.5081566 ]\n",
      " [0.5080467 ]\n",
      " [0.50814956]\n",
      " [0.51106536]\n",
      " [0.5048374 ]\n",
      " [0.508334  ]\n",
      " [0.5106522 ]\n",
      " [0.5077485 ]\n",
      " [0.5118264 ]\n",
      " [0.51112336]\n",
      " [0.5095141 ]\n",
      " [0.51183873]\n",
      " [0.5150552 ]\n",
      " [0.51486003]\n",
      " [0.51372457]\n",
      " [0.5117149 ]\n",
      " [0.5022941 ]\n",
      " [0.51337016]\n",
      " [0.5083797 ]\n",
      " [0.50894463]\n",
      " [0.51046   ]\n",
      " [0.5128305 ]\n",
      " [0.5066146 ]\n",
      " [0.5089966 ]\n",
      " [0.5094206 ]\n",
      " [0.507725  ]\n",
      " [0.51077443]\n",
      " [0.5103711 ]\n",
      " [0.5128319 ]\n",
      " [0.50868464]\n",
      " [0.51432204]\n",
      " [0.50700873]\n",
      " [0.51119804]\n",
      " [0.5086643 ]\n",
      " [0.5091415 ]\n",
      " [0.5133412 ]\n",
      " [0.5089716 ]\n",
      " [0.5097819 ]\n",
      " [0.50884175]\n",
      " [0.51230466]\n",
      " [0.5115492 ]\n",
      " [0.5110271 ]\n",
      " [0.50985855]\n",
      " [0.509248  ]\n",
      " [0.5224798 ]\n",
      " [0.51002955]\n",
      " [0.505659  ]\n",
      " [0.51354814]\n",
      " [0.5088459 ]\n",
      " [0.5149948 ]\n",
      " [0.5078571 ]\n",
      " [0.5100015 ]\n",
      " [0.5064478 ]\n",
      " [0.5125166 ]\n",
      " [0.5160798 ]\n",
      " [0.5139904 ]\n",
      " [0.50526816]\n",
      " [0.51120096]\n",
      " [0.5117185 ]\n",
      " [0.5034908 ]\n",
      " [0.51517373]\n",
      " [0.5141924 ]\n",
      " [0.5112632 ]\n",
      " [0.51011384]\n",
      " [0.5090742 ]\n",
      " [0.51066196]\n",
      " [0.5096591 ]\n",
      " [0.5129599 ]\n",
      " [0.5291388 ]\n",
      " [0.5054583 ]\n",
      " [0.5094949 ]\n",
      " [0.5115553 ]\n",
      " [0.5132403 ]\n",
      " [0.5137634 ]\n",
      " [0.5148225 ]\n",
      " [0.5128228 ]\n",
      " [0.5084566 ]\n",
      " [0.5108676 ]\n",
      " [0.5127253 ]\n",
      " [0.5091677 ]\n",
      " [0.5109527 ]\n",
      " [0.51192206]\n",
      " [0.50803083]\n",
      " [0.51104504]\n",
      " [0.5153298 ]\n",
      " [0.509407  ]\n",
      " [0.5115637 ]\n",
      " [0.5109425 ]\n",
      " [0.51275986]\n",
      " [0.52043104]\n",
      " [0.5092827 ]\n",
      " [0.51306885]\n",
      " [0.511175  ]\n",
      " [0.50663877]\n",
      " [0.5066028 ]\n",
      " [0.50989884]\n",
      " [0.5057332 ]\n",
      " [0.50994664]\n",
      " [0.51041895]\n",
      " [0.51729524]\n",
      " [0.5126109 ]\n",
      " [0.512985  ]\n",
      " [0.5118983 ]\n",
      " [0.51072097]\n",
      " [0.5089261 ]\n",
      " [0.50885093]\n",
      " [0.50996375]\n",
      " [0.5212554 ]\n",
      " [0.5088489 ]\n",
      " [0.50712645]\n",
      " [0.50967187]\n",
      " [0.51327837]\n",
      " [0.5152036 ]\n",
      " [0.50805557]\n",
      " [0.514447  ]\n",
      " [0.5090699 ]\n",
      " [0.5110443 ]\n",
      " [0.5116142 ]\n",
      " [0.5112389 ]\n",
      " [0.51094633]\n",
      " [0.5107392 ]\n",
      " [0.510898  ]\n",
      " [0.515356  ]\n",
      " [0.5097907 ]\n",
      " [0.5090547 ]\n",
      " [0.51286465]\n",
      " [0.5079347 ]\n",
      " [0.5077003 ]\n",
      " [0.51267374]\n",
      " [0.5135094 ]\n",
      " [0.50784737]\n",
      " [0.50853807]\n",
      " [0.51552445]\n",
      " [0.51252043]\n",
      " [0.5131247 ]\n",
      " [0.50565535]\n",
      " [0.50882107]\n",
      " [0.51189405]\n",
      " [0.512868  ]\n",
      " [0.5072479 ]\n",
      " [0.5086094 ]\n",
      " [0.5105923 ]\n",
      " [0.5124452 ]\n",
      " [0.5128107 ]\n",
      " [0.5074592 ]\n",
      " [0.5170899 ]\n",
      " [0.5103398 ]\n",
      " [0.50918674]\n",
      " [0.51205474]\n",
      " [0.5100622 ]\n",
      " [0.5059955 ]\n",
      " [0.5108322 ]\n",
      " [0.5129896 ]\n",
      " [0.51237595]\n",
      " [0.509002  ]\n",
      " [0.50912   ]\n",
      " [0.50923866]\n",
      " [0.5103452 ]\n",
      " [0.51115006]\n",
      " [0.5109416 ]\n",
      " [0.50828695]\n",
      " [0.513581  ]\n",
      " [0.50815845]\n",
      " [0.5119075 ]\n",
      " [0.511523  ]\n",
      " [0.5133592 ]\n",
      " [0.5065832 ]\n",
      " [0.50862   ]\n",
      " [0.5139067 ]\n",
      " [0.5054304 ]\n",
      " [0.50359327]\n",
      " [0.5081103 ]\n",
      " [0.5117161 ]\n",
      " [0.5153703 ]\n",
      " [0.51277924]\n",
      " [0.50911075]\n",
      " [0.50869524]\n",
      " [0.516561  ]\n",
      " [0.5108828 ]\n",
      " [0.5106333 ]\n",
      " [0.5108202 ]\n",
      " [0.5087506 ]\n",
      " [0.51518387]\n",
      " [0.51216686]\n",
      " [0.5120378 ]\n",
      " [0.5112125 ]\n",
      " [0.51295257]\n",
      " [0.5107897 ]\n",
      " [0.5125827 ]\n",
      " [0.5094937 ]\n",
      " [0.51563543]\n",
      " [0.5090556 ]\n",
      " [0.51342213]]\n"
     ]
    }
   ],
   "source": [
    "pred_test = model.predict(x=x_test)\n",
    "print(pred_test)"
   ]
  },
  {
   "cell_type": "code",
   "execution_count": 33,
   "metadata": {},
   "outputs": [
    {
     "name": "stdout",
     "output_type": "stream",
     "text": [
      "[[False]\n",
      " [False]\n",
      " [ True]\n",
      " [ True]\n",
      " [False]\n",
      " [False]\n",
      " [ True]\n",
      " [ True]\n",
      " [ True]\n",
      " [ True]\n",
      " [False]\n",
      " [False]\n",
      " [False]\n",
      " [ True]\n",
      " [ True]\n",
      " [False]\n",
      " [ True]\n",
      " [False]\n",
      " [ True]\n",
      " [False]\n",
      " [False]\n",
      " [ True]\n",
      " [ True]\n",
      " [ True]\n",
      " [ True]\n",
      " [ True]\n",
      " [ True]\n",
      " [ True]\n",
      " [False]\n",
      " [ True]\n",
      " [False]\n",
      " [False]\n",
      " [ True]\n",
      " [ True]\n",
      " [ True]\n",
      " [ True]\n",
      " [ True]\n",
      " [False]\n",
      " [ True]\n",
      " [ True]\n",
      " [ True]\n",
      " [False]\n",
      " [False]\n",
      " [False]\n",
      " [False]\n",
      " [False]\n",
      " [False]\n",
      " [ True]\n",
      " [False]\n",
      " [ True]\n",
      " [False]\n",
      " [ True]\n",
      " [ True]\n",
      " [ True]\n",
      " [ True]\n",
      " [ True]\n",
      " [ True]\n",
      " [False]\n",
      " [ True]\n",
      " [False]\n",
      " [False]\n",
      " [ True]\n",
      " [ True]\n",
      " [False]\n",
      " [False]\n",
      " [False]\n",
      " [False]\n",
      " [False]\n",
      " [ True]\n",
      " [ True]\n",
      " [ True]\n",
      " [ True]\n",
      " [False]\n",
      " [ True]\n",
      " [False]\n",
      " [False]\n",
      " [ True]\n",
      " [ True]\n",
      " [False]\n",
      " [False]\n",
      " [ True]\n",
      " [ True]\n",
      " [ True]\n",
      " [False]\n",
      " [False]\n",
      " [ True]\n",
      " [ True]\n",
      " [False]\n",
      " [ True]\n",
      " [False]\n",
      " [ True]\n",
      " [False]\n",
      " [ True]\n",
      " [False]\n",
      " [ True]\n",
      " [ True]\n",
      " [ True]\n",
      " [False]\n",
      " [ True]\n",
      " [ True]\n",
      " [False]\n",
      " [ True]\n",
      " [ True]\n",
      " [ True]\n",
      " [ True]\n",
      " [False]\n",
      " [ True]\n",
      " [False]\n",
      " [ True]\n",
      " [ True]\n",
      " [False]\n",
      " [False]\n",
      " [ True]\n",
      " [ True]\n",
      " [ True]\n",
      " [ True]\n",
      " [ True]\n",
      " [False]\n",
      " [ True]\n",
      " [ True]\n",
      " [ True]\n",
      " [ True]\n",
      " [ True]\n",
      " [False]\n",
      " [ True]\n",
      " [ True]\n",
      " [False]\n",
      " [ True]\n",
      " [ True]\n",
      " [ True]\n",
      " [ True]\n",
      " [ True]\n",
      " [ True]\n",
      " [ True]\n",
      " [False]\n",
      " [False]\n",
      " [False]\n",
      " [False]\n",
      " [ True]\n",
      " [ True]\n",
      " [ True]\n",
      " [ True]\n",
      " [ True]\n",
      " [ True]\n",
      " [ True]\n",
      " [False]\n",
      " [False]\n",
      " [ True]\n",
      " [ True]\n",
      " [False]\n",
      " [False]\n",
      " [ True]\n",
      " [ True]\n",
      " [ True]\n",
      " [False]\n",
      " [ True]\n",
      " [False]\n",
      " [ True]\n",
      " [ True]\n",
      " [ True]\n",
      " [ True]\n",
      " [False]\n",
      " [False]\n",
      " [ True]\n",
      " [ True]\n",
      " [False]\n",
      " [ True]\n",
      " [False]\n",
      " [False]\n",
      " [ True]\n",
      " [ True]\n",
      " [False]\n",
      " [False]\n",
      " [ True]\n",
      " [ True]\n",
      " [ True]\n",
      " [False]\n",
      " [False]\n",
      " [ True]\n",
      " [ True]\n",
      " [False]\n",
      " [False]\n",
      " [ True]\n",
      " [ True]\n",
      " [ True]\n",
      " [False]\n",
      " [ True]\n",
      " [ True]\n",
      " [False]\n",
      " [ True]\n",
      " [False]\n",
      " [False]\n",
      " [ True]\n",
      " [ True]\n",
      " [ True]\n",
      " [False]\n",
      " [False]\n",
      " [False]\n",
      " [ True]\n",
      " [ True]\n",
      " [ True]\n",
      " [False]\n",
      " [ True]\n",
      " [False]\n",
      " [ True]\n",
      " [ True]\n",
      " [ True]\n",
      " [False]\n",
      " [False]\n",
      " [ True]\n",
      " [False]\n",
      " [False]\n",
      " [False]\n",
      " [ True]\n",
      " [ True]\n",
      " [ True]\n",
      " [ True]\n",
      " [False]\n",
      " [ True]\n",
      " [ True]\n",
      " [False]\n",
      " [ True]\n",
      " [False]\n",
      " [ True]\n",
      " [ True]\n",
      " [ True]\n",
      " [ True]\n",
      " [ True]\n",
      " [ True]\n",
      " [ True]\n",
      " [False]\n",
      " [ True]\n",
      " [False]\n",
      " [ True]]\n"
     ]
    }
   ],
   "source": [
    "checking = pred_test >= 0.5\n",
    "print(checking)"
   ]
  },
  {
   "cell_type": "code",
   "execution_count": 34,
   "metadata": {},
   "outputs": [
    {
     "name": "stdout",
     "output_type": "stream",
     "text": [
      "[[0]\n",
      " [0]\n",
      " [1]\n",
      " [1]\n",
      " [0]\n",
      " [0]\n",
      " [1]\n",
      " [1]\n",
      " [1]\n",
      " [1]\n",
      " [0]\n",
      " [0]\n",
      " [0]\n",
      " [1]\n",
      " [1]\n",
      " [0]\n",
      " [1]\n",
      " [0]\n",
      " [1]\n",
      " [0]\n",
      " [0]\n",
      " [1]\n",
      " [1]\n",
      " [1]\n",
      " [1]\n",
      " [1]\n",
      " [1]\n",
      " [1]\n",
      " [0]\n",
      " [1]\n",
      " [0]\n",
      " [0]\n",
      " [1]\n",
      " [1]\n",
      " [1]\n",
      " [1]\n",
      " [1]\n",
      " [0]\n",
      " [1]\n",
      " [1]\n",
      " [1]\n",
      " [0]\n",
      " [0]\n",
      " [0]\n",
      " [0]\n",
      " [0]\n",
      " [0]\n",
      " [1]\n",
      " [0]\n",
      " [1]\n",
      " [0]\n",
      " [1]\n",
      " [1]\n",
      " [1]\n",
      " [1]\n",
      " [1]\n",
      " [1]\n",
      " [0]\n",
      " [1]\n",
      " [0]\n",
      " [0]\n",
      " [1]\n",
      " [1]\n",
      " [0]\n",
      " [0]\n",
      " [0]\n",
      " [0]\n",
      " [0]\n",
      " [1]\n",
      " [1]\n",
      " [1]\n",
      " [1]\n",
      " [0]\n",
      " [1]\n",
      " [0]\n",
      " [0]\n",
      " [1]\n",
      " [1]\n",
      " [0]\n",
      " [0]\n",
      " [1]\n",
      " [1]\n",
      " [1]\n",
      " [0]\n",
      " [0]\n",
      " [1]\n",
      " [1]\n",
      " [0]\n",
      " [1]\n",
      " [0]\n",
      " [1]\n",
      " [0]\n",
      " [1]\n",
      " [0]\n",
      " [1]\n",
      " [1]\n",
      " [1]\n",
      " [0]\n",
      " [1]\n",
      " [1]\n",
      " [0]\n",
      " [1]\n",
      " [1]\n",
      " [1]\n",
      " [1]\n",
      " [0]\n",
      " [1]\n",
      " [0]\n",
      " [1]\n",
      " [1]\n",
      " [0]\n",
      " [0]\n",
      " [1]\n",
      " [1]\n",
      " [1]\n",
      " [1]\n",
      " [1]\n",
      " [0]\n",
      " [1]\n",
      " [1]\n",
      " [1]\n",
      " [1]\n",
      " [1]\n",
      " [0]\n",
      " [1]\n",
      " [1]\n",
      " [0]\n",
      " [1]\n",
      " [1]\n",
      " [1]\n",
      " [1]\n",
      " [1]\n",
      " [1]\n",
      " [1]\n",
      " [0]\n",
      " [0]\n",
      " [0]\n",
      " [0]\n",
      " [1]\n",
      " [1]\n",
      " [1]\n",
      " [1]\n",
      " [1]\n",
      " [1]\n",
      " [1]\n",
      " [0]\n",
      " [0]\n",
      " [1]\n",
      " [1]\n",
      " [0]\n",
      " [0]\n",
      " [1]\n",
      " [1]\n",
      " [1]\n",
      " [0]\n",
      " [1]\n",
      " [0]\n",
      " [1]\n",
      " [1]\n",
      " [1]\n",
      " [1]\n",
      " [0]\n",
      " [0]\n",
      " [1]\n",
      " [1]\n",
      " [0]\n",
      " [1]\n",
      " [0]\n",
      " [0]\n",
      " [1]\n",
      " [1]\n",
      " [0]\n",
      " [0]\n",
      " [1]\n",
      " [1]\n",
      " [1]\n",
      " [0]\n",
      " [0]\n",
      " [1]\n",
      " [1]\n",
      " [0]\n",
      " [0]\n",
      " [1]\n",
      " [1]\n",
      " [1]\n",
      " [0]\n",
      " [1]\n",
      " [1]\n",
      " [0]\n",
      " [1]\n",
      " [0]\n",
      " [0]\n",
      " [1]\n",
      " [1]\n",
      " [1]\n",
      " [0]\n",
      " [0]\n",
      " [0]\n",
      " [1]\n",
      " [1]\n",
      " [1]\n",
      " [0]\n",
      " [1]\n",
      " [0]\n",
      " [1]\n",
      " [1]\n",
      " [1]\n",
      " [0]\n",
      " [0]\n",
      " [1]\n",
      " [0]\n",
      " [0]\n",
      " [0]\n",
      " [1]\n",
      " [1]\n",
      " [1]\n",
      " [1]\n",
      " [0]\n",
      " [1]\n",
      " [1]\n",
      " [0]\n",
      " [1]\n",
      " [0]\n",
      " [1]\n",
      " [1]\n",
      " [1]\n",
      " [1]\n",
      " [1]\n",
      " [1]\n",
      " [1]\n",
      " [0]\n",
      " [1]\n",
      " [0]\n",
      " [1]]\n"
     ]
    }
   ],
   "source": [
    "answer = checking.astype(int)\n",
    "print(answer)"
   ]
  },
  {
   "cell_type": "code",
   "execution_count": 93,
   "metadata": {},
   "outputs": [],
   "source": [
    "f = open(\"labels.txt\", \"w\")\n",
    "for i in range(len(answer)):\n",
    "    f.write(str(answer[i][0]) + \"\\n\")\n",
    "f.close()"
   ]
  }
 ],
 "metadata": {
  "kernelspec": {
   "display_name": "tf",
   "language": "python",
   "name": "tf"
  },
  "language_info": {
   "codemirror_mode": {
    "name": "ipython",
    "version": 3
   },
   "file_extension": ".py",
   "mimetype": "text/x-python",
   "name": "python",
   "nbconvert_exporter": "python",
   "pygments_lexer": "ipython3",
   "version": "3.6.12"
  }
 },
 "nbformat": 4,
 "nbformat_minor": 4
}
