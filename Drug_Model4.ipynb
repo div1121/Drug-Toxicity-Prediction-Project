{
 "cells": [
  {
   "cell_type": "code",
   "execution_count": 1,
   "metadata": {},
   "outputs": [],
   "source": [
    "import tensorflow as tf\n",
    "import numpy as np\n",
    "import matplotlib.pyplot as plt\n",
    "import random\n",
    "import csv\n",
    "import os\n",
    "import collections\n",
    "import time\n",
    "import math\n",
    "import pickle\n",
    "import re\n",
    "from tensorflow import keras\n",
    "from tensorflow.keras.regularizers import l2\n",
    "from tensorflow.keras.models import Sequential\n",
    "from tensorflow.keras.layers import BatchNormalization\n",
    "from tensorflow.keras.layers import Dropout\n",
    "from tensorflow.keras.layers import InputLayer, Input\n",
    "from tensorflow.keras.layers import Reshape, MaxPooling2D\n",
    "from tensorflow.keras.layers import Conv2D, Dense, Flatten\n",
    "from tensorflow.keras.optimizers import Adam\n",
    "from tensorflow.keras.optimizers import SGD\n",
    "from tensorflow.python.keras.models import load_model"
   ]
  },
  {
   "cell_type": "code",
   "execution_count": 2,
   "metadata": {},
   "outputs": [
    {
     "data": {
      "text/plain": [
       "'1.15.4'"
      ]
     },
     "execution_count": 2,
     "metadata": {},
     "output_type": "execute_result"
    }
   ],
   "source": [
    "tf.__version__"
   ]
  },
  {
   "cell_type": "code",
   "execution_count": 3,
   "metadata": {},
   "outputs": [],
   "source": [
    "train_labels = open(\"SR-ARE-train/names_labels.txt\",\"r\")\n",
    "content = train_labels.read()\n",
    "#print(content)"
   ]
  },
  {
   "cell_type": "code",
   "execution_count": 4,
   "metadata": {},
   "outputs": [
    {
     "name": "stdout",
     "output_type": "stream",
     "text": [
      "6069 1098\n"
     ]
    }
   ],
   "source": [
    "content_list = re.split(\",|\\n\",content)\n",
    "#print(content_list)\n",
    "#print(len(content_list))\n",
    "\n",
    "print(content_list.count(\"0\"),content_list.count(\"1\"))"
   ]
  },
  {
   "cell_type": "code",
   "execution_count": 5,
   "metadata": {},
   "outputs": [],
   "source": [
    "drug_dict = {content_list[2*i]:float(content_list[2*i+1]) for i in range(len(content_list)//2)}\n",
    "#print(drug_dict)\n",
    "#print(len(drug_dict))"
   ]
  },
  {
   "cell_type": "code",
   "execution_count": 6,
   "metadata": {},
   "outputs": [],
   "source": [
    "train_smiles = open(\"SR-ARE-train/names_smiles.txt\",\"r\")\n",
    "dtent = train_smiles.read()\n",
    "#print(dtent)"
   ]
  },
  {
   "cell_type": "code",
   "execution_count": 7,
   "metadata": {},
   "outputs": [],
   "source": [
    "dtent_list = re.split(\",|\\n\",dtent)\n",
    "drug_name_dict = {dtent_list[2*i]:dtent_list[2*i+1] for i in range(len(dtent_list)//2)}\n",
    "#print(drug_name_dict)\n",
    "#print(len(drug_name_dict))"
   ]
  },
  {
   "cell_type": "code",
   "execution_count": 8,
   "metadata": {},
   "outputs": [],
   "source": [
    "train_one_hot = open(\"SR-ARE-train/names_onehots.pickle\",\"rb\")\n",
    "rtent = pickle.load(train_one_hot)\n",
    "#print(rtent)"
   ]
  },
  {
   "cell_type": "code",
   "execution_count": 9,
   "metadata": {},
   "outputs": [
    {
     "name": "stdout",
     "output_type": "stream",
     "text": [
      "<class 'dict'>\n",
      "<class 'numpy.ndarray'>\n",
      "(7167, 70, 325)\n"
     ]
    }
   ],
   "source": [
    "print(type(rtent))\n",
    "print(type(rtent[\"onehots\"]))\n",
    "print(rtent[\"onehots\"].shape)\n"
   ]
  },
  {
   "cell_type": "code",
   "execution_count": 10,
   "metadata": {},
   "outputs": [
    {
     "name": "stdout",
     "output_type": "stream",
     "text": [
      "<class 'list'>\n"
     ]
    }
   ],
   "source": [
    "print(type(rtent[\"names\"]))"
   ]
  },
  {
   "cell_type": "code",
   "execution_count": 11,
   "metadata": {},
   "outputs": [
    {
     "name": "stdout",
     "output_type": "stream",
     "text": [
      "(7167, 70, 325)\n",
      "(7167,)\n"
     ]
    }
   ],
   "source": [
    "x_train = rtent[\"onehots\"]\n",
    "label = rtent[\"names\"]\n",
    "zlabel = [drug_dict[label[i]] for i in range(len(label))]\n",
    "#print(len(zlabel))\n",
    "y_train = np.array(zlabel,float)\n",
    "print(x_train.shape)\n",
    "print(y_train.shape)\n"
   ]
  },
  {
   "cell_type": "code",
   "execution_count": 12,
   "metadata": {},
   "outputs": [
    {
     "name": "stdout",
     "output_type": "stream",
     "text": [
      "[False  True False ... False False  True]\n",
      "[1 1 1 ... 1 1 1]\n",
      "1098\n",
      "1098\n",
      "6069\n"
     ]
    }
   ],
   "source": [
    "correct = y_train >= 0.5\n",
    "print(correct)\n",
    "true_label = correct[correct].astype(int)\n",
    "print(true_label)\n",
    "print(len(true_label))\n",
    "true_find = x_train[correct]\n",
    "print(len(true_find))\n",
    "\n",
    "incorrect = y_train <= 0.5\n",
    "false_label = incorrect[incorrect].astype(int)\n",
    "false_find = x_train[incorrect]\n",
    "print(len(false_label))"
   ]
  },
  {
   "cell_type": "code",
   "execution_count": 13,
   "metadata": {},
   "outputs": [
    {
     "name": "stdout",
     "output_type": "stream",
     "text": [
      "0.00016477179106936892 0.0009107468123861566\n"
     ]
    }
   ],
   "source": [
    "weight_for_zero = 1.0 / len(false_label)\n",
    "weight_for_one = 1.0 / len(true_label)\n",
    "print(weight_for_zero,weight_for_one)"
   ]
  },
  {
   "cell_type": "code",
   "execution_count": 14,
   "metadata": {},
   "outputs": [
    {
     "name": "stdout",
     "output_type": "stream",
     "text": [
      "70\n",
      "325\n",
      "(70, 325)\n",
      "(70, 325, 1)\n"
     ]
    }
   ],
   "source": [
    "drug_height = x_train.shape[1]\n",
    "print(drug_height)\n",
    "drug_width = x_train.shape[2]\n",
    "print(drug_width)\n",
    "drug_shape = (drug_height , drug_width)\n",
    "print(drug_shape)\n",
    "drug_full_shape = (drug_height , drug_width,1)\n",
    "print(drug_full_shape)\n",
    "no_class = 1\n",
    "no_channel = 1"
   ]
  },
  {
   "cell_type": "code",
   "execution_count": 16,
   "metadata": {},
   "outputs": [],
   "source": [
    "def find_formula(dictlist,namelabel,y):\n",
    "    for i in range(9):\n",
    "        print(namelabel[i],dictlist[namelabel[i]],y[i])"
   ]
  },
  {
   "cell_type": "code",
   "execution_count": 14,
   "metadata": {},
   "outputs": [
    {
     "name": "stdout",
     "output_type": "stream",
     "text": [
      "NCGC00254346-01 CC(C)=CCC\\C(C)=C/CO 0.0\n",
      "NCGC00254668-01 FC1=CC=CC(F)=C1C(=O)NC(=O)NC2=C(F)C=C(OC3=C(Cl)C=C(C=C3)C(F)(F)F)C=C2 1.0\n",
      "NCGC00015646-05 Cl.CC1=CNN=C1 0.0\n",
      "NCGC00255698-01 CC1(C)[C@H](C=C(Cl)Cl)[C@@H]1C(=O)O[C@@H](C#N)C2=CC=CC(OC3=CC=CC=C3)=C2 0.0\n",
      "NCGC00160628-03 C[C@@H]1O[C@@H](OC[C@H]2O[C@@H](OC3=C(OC4=C(C3=O)C(O)=CC(O)=C4)C5=CC(O)=C(O)C=C5)[C@H](O)[C@@H](O)[C@@H]2O)[C@H](O)[C@H](O)[C@H]1O 0.0\n",
      "NCGC00255567-01 CCCCCCOC1=C(C=CC=C1)C(O)=O 0.0\n",
      "NCGC00262943-01 OCCNCCO.CC(OC(=O)C1(C)CCC(C(O)=O)C1(C)C)C2=CC=C(C)C=C2 0.0\n",
      "NCGC00256129-01 CCCCOC(=O)CCCCCCCC(=O)OCCCC 0.0\n",
      "NCGC00016666-06 Br.COC1=C2CN(C)CCC2=CC3=C1OCO3 0.0\n"
     ]
    }
   ],
   "source": [
    "find_formula(drug_name_dict,label[0:9],y_train[0:9])"
   ]
  },
  {
   "cell_type": "code",
   "execution_count": 17,
   "metadata": {},
   "outputs": [],
   "source": [
    "def find_example_error(pred,dictlist,namelabel,y):\n",
    "    incorrect = (pred != y)\n",
    "    namelabel = namelabel[incorrect]\n",
    "    pred = pred[incorrect]\n",
    "    find_formula(dictlist,namelabel[0:9],y[0:9])"
   ]
  },
  {
   "cell_type": "code",
   "execution_count": 19,
   "metadata": {},
   "outputs": [
    {
     "data": {
      "text/plain": [
       "<tensorflow.python.keras.regularizers.L1L2 at 0x2573b0db550>"
      ]
     },
     "execution_count": 19,
     "metadata": {},
     "output_type": "execute_result"
    }
   ],
   "source": []
  },
  {
   "cell_type": "code",
   "execution_count": 84,
   "metadata": {},
   "outputs": [],
   "source": [
    "model = Sequential()\n",
    "model.add(InputLayer(input_shape=(drug_height,drug_width,)))\n",
    "\n",
    "model.add(Reshape(drug_full_shape))\n",
    "\n",
    "model.add(Conv2D(kernel_size=(1,16),strides=1,filters=8,padding='same',activation='relu',name=\"conv1\"))\n",
    "model.add(BatchNormalization())\n",
    "model.add(MaxPooling2D(pool_size=(1,4), strides=(1,4),padding='same'))\n",
    "\n",
    "model.add(Conv2D(kernel_size=(1,16),strides=1,filters=16,padding='same',activation='relu',name=\"conv2\"))\n",
    "model.add(BatchNormalization())\n",
    "model.add(MaxPooling2D(pool_size=(1,4), strides=(1,4),padding='same'))\n",
    "\n",
    "model.add(Conv2D(kernel_size=(1,16),strides=1,filters=32,padding='same',activation='relu',name=\"conv3\"))\n",
    "model.add(BatchNormalization())\n",
    "model.add(MaxPooling2D(pool_size=(1,4), strides=(1,4),padding='same'))\n",
    "\n",
    "model.add(Flatten())\n",
    "\n",
    "model.add(Dense(no_class,activation=\"sigmoid\",kernel_regularizer=l2(0.01), bias_regularizer=l2(0.01)))\n",
    "\n"
   ]
  },
  {
   "cell_type": "code",
   "execution_count": 85,
   "metadata": {},
   "outputs": [
    {
     "name": "stdout",
     "output_type": "stream",
     "text": [
      "Model: \"sequential_2\"\n",
      "_________________________________________________________________\n",
      "Layer (type)                 Output Shape              Param #   \n",
      "=================================================================\n",
      "reshape_2 (Reshape)          (None, 70, 325, 1)        0         \n",
      "_________________________________________________________________\n",
      "conv1 (Conv2D)               (None, 70, 325, 8)        136       \n",
      "_________________________________________________________________\n",
      "batch_normalization_6 (Batch (None, 70, 325, 8)        32        \n",
      "_________________________________________________________________\n",
      "max_pooling2d_6 (MaxPooling2 (None, 70, 82, 8)         0         \n",
      "_________________________________________________________________\n",
      "conv2 (Conv2D)               (None, 70, 82, 16)        2064      \n",
      "_________________________________________________________________\n",
      "batch_normalization_7 (Batch (None, 70, 82, 16)        64        \n",
      "_________________________________________________________________\n",
      "max_pooling2d_7 (MaxPooling2 (None, 70, 21, 16)        0         \n",
      "_________________________________________________________________\n",
      "conv3 (Conv2D)               (None, 70, 21, 32)        8224      \n",
      "_________________________________________________________________\n",
      "batch_normalization_8 (Batch (None, 70, 21, 32)        128       \n",
      "_________________________________________________________________\n",
      "max_pooling2d_8 (MaxPooling2 (None, 70, 6, 32)         0         \n",
      "_________________________________________________________________\n",
      "flatten_2 (Flatten)          (None, 13440)             0         \n",
      "_________________________________________________________________\n",
      "dense_2 (Dense)              (None, 1)                 13441     \n",
      "=================================================================\n",
      "Total params: 24,089\n",
      "Trainable params: 23,977\n",
      "Non-trainable params: 112\n",
      "_________________________________________________________________\n",
      "None\n"
     ]
    }
   ],
   "source": [
    "print(model.summary())"
   ]
  },
  {
   "cell_type": "code",
   "execution_count": 86,
   "metadata": {},
   "outputs": [],
   "source": [
    "optimizer = Adam(lr=1e-4)"
   ]
  },
  {
   "cell_type": "code",
   "execution_count": 18,
   "metadata": {},
   "outputs": [
    {
     "name": "stdout",
     "output_type": "stream",
     "text": [
      "WARNING:tensorflow:From C:\\Users\\user\\Anaconda3\\envs\\tf\\lib\\site-packages\\tensorflow_core\\python\\ops\\resource_variable_ops.py:1630: calling BaseResourceVariable.__init__ (from tensorflow.python.ops.resource_variable_ops) with constraint is deprecated and will be removed in a future version.\n",
      "Instructions for updating:\n",
      "If using Keras pass *_constraint arguments to layers.\n"
     ]
    }
   ],
   "source": [
    "metrics = [\n",
    "    keras.metrics.BinaryAccuracy(name=\"accuracy\"),\n",
    "    keras.metrics.FalseNegatives(name=\"fn\"),\n",
    "    keras.metrics.FalsePositives(name=\"fp\"),\n",
    "    keras.metrics.TrueNegatives(name=\"tn\"),\n",
    "    keras.metrics.TruePositives(name=\"tp\"),\n",
    "    keras.metrics.Precision(name=\"precision\"),\n",
    "    keras.metrics.Recall(name=\"recall\"),\n",
    "]"
   ]
  },
  {
   "cell_type": "code",
   "execution_count": 89,
   "metadata": {},
   "outputs": [],
   "source": [
    "model.compile(optimizer=optimizer,loss=\"binary_crossentropy\", metrics=metrics)"
   ]
  },
  {
   "cell_type": "code",
   "execution_count": 25,
   "metadata": {},
   "outputs": [],
   "source": [
    "class_weight = {0: weight_for_zero, 1: weight_for_one}"
   ]
  },
  {
   "cell_type": "code",
   "execution_count": 46,
   "metadata": {},
   "outputs": [
    {
     "name": "stdout",
     "output_type": "stream",
     "text": [
      "Train on 7167 samples, validate on 234 samples\n",
      "7167/7167 [==============================] - 131s 18ms/sample - loss: 1.7194e-04 - accuracy: 0.6808 - fn: 312.0000 - fp: 1976.0000 - tn: 4093.0000 - tp: 786.0000 - precision: 0.2846 - recall: 0.7158 - val_loss: 0.7176 - val_accuracy: 0.4829 - val_fn: 8.0000 - val_fp: 113.0000 - val_tn: 73.0000 - val_tp: 40.0000 - val_precision: 0.2614 - val_recall: 0.8333\n"
     ]
    },
    {
     "data": {
      "text/plain": [
       "<tensorflow.python.keras.callbacks.History at 0x20adc1461d0>"
      ]
     },
     "execution_count": 46,
     "metadata": {},
     "output_type": "execute_result"
    }
   ],
   "source": [
    "model.fit(x=x_train, y=y_train, epochs=1, batch_size=128,class_weight=class_weight,validation_data=(x_test, y_test))"
   ]
  },
  {
   "cell_type": "code",
   "execution_count": null,
   "metadata": {},
   "outputs": [],
   "source": [
    "#30 epochs"
   ]
  },
  {
   "cell_type": "code",
   "execution_count": 15,
   "metadata": {},
   "outputs": [],
   "source": [
    "test_labels = open(\"SR-ARE-test/names_labels.txt\",\"r\")\n",
    "ttcontent = test_labels.read()"
   ]
  },
  {
   "cell_type": "code",
   "execution_count": 16,
   "metadata": {},
   "outputs": [
    {
     "name": "stdout",
     "output_type": "stream",
     "text": [
      "186 48\n"
     ]
    }
   ],
   "source": [
    "ttcontent_list = re.split(\",|\\n\",ttcontent)\n",
    "#print(ttcontent_list)\n",
    "#print(len(ttcontent_list))\n",
    "print(ttcontent_list.count(\"0\"),ttcontent_list.count(\"1\"))"
   ]
  },
  {
   "cell_type": "code",
   "execution_count": 17,
   "metadata": {},
   "outputs": [],
   "source": [
    "ttdrug_dict = {ttcontent_list[2*i]:float(ttcontent_list[2*i+1]) for i in range(len(ttcontent_list)//2)}\n",
    "#print(drug_dict)\n",
    "#print(len(drug_dict))"
   ]
  },
  {
   "cell_type": "code",
   "execution_count": 18,
   "metadata": {},
   "outputs": [],
   "source": [
    "test_smiles = open(\"SR-ARE-test/names_smiles.txt\",\"r\")\n",
    "ttdtent = test_smiles.read()\n",
    "#print(ttdtent)"
   ]
  },
  {
   "cell_type": "code",
   "execution_count": 19,
   "metadata": {},
   "outputs": [
    {
     "name": "stdout",
     "output_type": "stream",
     "text": [
      "234\n"
     ]
    }
   ],
   "source": [
    "ttdtent_list = re.split(\",|\\n\",ttdtent)\n",
    "ttdrug_name_dict = {ttdtent_list[2*i]:ttdtent_list[2*i+1] for i in range(len(ttdtent_list)//2)}\n",
    "#print(ttdrug_name_dict)\n",
    "print(len(ttdrug_name_dict))"
   ]
  },
  {
   "cell_type": "code",
   "execution_count": 20,
   "metadata": {},
   "outputs": [],
   "source": [
    "test_one_hot = open(\"SR-ARE-test/names_onehots.pickle\",\"rb\")\n",
    "ttrtent = pickle.load(test_one_hot)\n",
    "#print(rtent)"
   ]
  },
  {
   "cell_type": "code",
   "execution_count": 22,
   "metadata": {},
   "outputs": [],
   "source": [
    "x_test = ttrtent[\"onehots\"]\n",
    "ttlabel = ttrtent[\"names\"]\n",
    "ttzlabel = [ttdrug_dict[ttlabel[i]] for i in range(len(ttlabel))]\n",
    "#print(len(zlabel))\n",
    "y_test = np.array(ttzlabel,float)"
   ]
  },
  {
   "cell_type": "code",
   "execution_count": 47,
   "metadata": {},
   "outputs": [
    {
     "name": "stdout",
     "output_type": "stream",
     "text": [
      "234/234 [==============================] - 0s 2ms/sample - loss: 0.7176 - accuracy: 0.4829 - fn: 8.0000 - fp: 113.0000 - tn: 73.0000 - tp: 40.0000 - precision: 0.2614 - recall: 0.8333\n"
     ]
    }
   ],
   "source": [
    "result = model.evaluate(x=x_test,y=y_test)"
   ]
  },
  {
   "cell_type": "code",
   "execution_count": 48,
   "metadata": {},
   "outputs": [
    {
     "name": "stdout",
     "output_type": "stream",
     "text": [
      "7167/7167 [==============================] - 16s 2ms/sample - loss: 0.5821 - accuracy: 0.6882 - fn: 303.0000 - fp: 1932.0000 - tn: 4137.0000 - tp: 795.0000 - precision: 0.2915 - recall: 0.7240\n"
     ]
    }
   ],
   "source": [
    "result = model.evaluate(x=x_train,y=y_train)"
   ]
  },
  {
   "cell_type": "code",
   "execution_count": 49,
   "metadata": {},
   "outputs": [
    {
     "name": "stdout",
     "output_type": "stream",
     "text": [
      "loss 0.7908338659848922\n",
      "accuracy 0.4059829\n",
      "fn 3.0\n",
      "fp 136.0\n",
      "tn 50.0\n",
      "tp 45.0\n",
      "precision 0.24861878\n",
      "recall 0.9375\n"
     ]
    }
   ],
   "source": [
    "for name, value in zip(model.metrics_names, result):\n",
    "    print(name, value)"
   ]
  },
  {
   "cell_type": "code",
   "execution_count": 49,
   "metadata": {},
   "outputs": [],
   "source": [
    "## save model\n",
    "path_model = 'model/model4-3.keras'\n",
    "model.save(path_model)"
   ]
  },
  {
   "cell_type": "code",
   "execution_count": 45,
   "metadata": {},
   "outputs": [],
   "source": [
    "path_model = 'model/model4-2.keras'\n",
    "model = tf.keras.models.load_model(path_model)"
   ]
  },
  {
   "cell_type": "code",
   "execution_count": 28,
   "metadata": {},
   "outputs": [
    {
     "name": "stdout",
     "output_type": "stream",
     "text": [
      "[[0.6293937 ]\n",
      " [0.7840846 ]\n",
      " [0.32261226]\n",
      " [0.3512329 ]\n",
      " [0.6925321 ]\n",
      " [0.5773902 ]\n",
      " [0.41586277]\n",
      " [0.5222908 ]\n",
      " [0.730517  ]\n",
      " [0.43595967]\n",
      " [0.7546753 ]\n",
      " [0.42525968]\n",
      " [0.62670594]\n",
      " [0.7968334 ]\n",
      " [0.47488073]\n",
      " [0.5914787 ]\n",
      " [0.67171794]\n",
      " [0.6583117 ]\n",
      " [0.3671164 ]\n",
      " [0.4963578 ]\n",
      " [0.61310726]\n",
      " [0.4046472 ]\n",
      " [0.6612482 ]\n",
      " [0.5117356 ]\n",
      " [0.6298145 ]\n",
      " [0.2950887 ]\n",
      " [0.49673948]\n",
      " [0.735853  ]\n",
      " [0.5924048 ]\n",
      " [0.7494144 ]\n",
      " [0.3642884 ]\n",
      " [0.631775  ]\n",
      " [0.83618706]\n",
      " [0.23381582]\n",
      " [0.73984796]\n",
      " [0.70681846]\n",
      " [0.60315645]\n",
      " [0.53549623]\n",
      " [0.71896154]\n",
      " [0.51517844]\n",
      " [0.56277514]\n",
      " [0.76933014]\n",
      " [0.65028375]\n",
      " [0.59706867]\n",
      " [0.72285354]\n",
      " [0.6331552 ]\n",
      " [0.63276964]\n",
      " [0.45292467]\n",
      " [0.69625026]\n",
      " [0.7907134 ]\n",
      " [0.7045804 ]\n",
      " [0.7387818 ]\n",
      " [0.41012907]\n",
      " [0.54122275]\n",
      " [0.457899  ]\n",
      " [0.75026655]\n",
      " [0.73531425]\n",
      " [0.5523648 ]\n",
      " [0.3578353 ]\n",
      " [0.77696204]\n",
      " [0.5336642 ]\n",
      " [0.3922081 ]\n",
      " [0.57604945]\n",
      " [0.6063747 ]\n",
      " [0.70174575]\n",
      " [0.70941144]\n",
      " [0.35200992]\n",
      " [0.34383076]\n",
      " [0.5613865 ]\n",
      " [0.26031113]\n",
      " [0.66990685]\n",
      " [0.27839047]\n",
      " [0.4012366 ]\n",
      " [0.39255702]\n",
      " [0.7393876 ]\n",
      " [0.29240766]\n",
      " [0.55264246]\n",
      " [0.74754477]\n",
      " [0.5968688 ]\n",
      " [0.5437638 ]\n",
      " [0.33301672]\n",
      " [0.660258  ]\n",
      " [0.55339134]\n",
      " [0.6608629 ]\n",
      " [0.62691146]\n",
      " [0.61346704]\n",
      " [0.45431376]\n",
      " [0.527127  ]\n",
      " [0.65701073]\n",
      " [0.47168788]\n",
      " [0.37950054]\n",
      " [0.6661031 ]\n",
      " [0.43955186]\n",
      " [0.53415626]\n",
      " [0.24804577]\n",
      " [0.7486384 ]\n",
      " [0.5774914 ]\n",
      " [0.6978841 ]\n",
      " [0.24064472]\n",
      " [0.42714033]\n",
      " [0.57173085]\n",
      " [0.6882804 ]\n",
      " [0.62925816]\n",
      " [0.5351647 ]\n",
      " [0.33515298]\n",
      " [0.307629  ]\n",
      " [0.460239  ]\n",
      " [0.6748101 ]\n",
      " [0.42604193]\n",
      " [0.6985465 ]\n",
      " [0.69247586]\n",
      " [0.5445052 ]\n",
      " [0.25008267]\n",
      " [0.42405307]\n",
      " [0.61219716]\n",
      " [0.2765152 ]\n",
      " [0.7992786 ]\n",
      " [0.39806128]\n",
      " [0.41591802]\n",
      " [0.2474581 ]\n",
      " [0.739834  ]\n",
      " [0.7135305 ]\n",
      " [0.6046998 ]\n",
      " [0.6506857 ]\n",
      " [0.5700801 ]\n",
      " [0.77457243]\n",
      " [0.6732322 ]\n",
      " [0.61799175]\n",
      " [0.24090216]\n",
      " [0.52868   ]\n",
      " [0.70446235]\n",
      " [0.710334  ]\n",
      " [0.694276  ]\n",
      " [0.22121224]\n",
      " [0.5226316 ]\n",
      " [0.6420033 ]\n",
      " [0.6945827 ]\n",
      " [0.62048936]\n",
      " [0.18052164]\n",
      " [0.49017817]\n",
      " [0.68393934]\n",
      " [0.5081602 ]\n",
      " [0.4957443 ]\n",
      " [0.5499392 ]\n",
      " [0.20650288]\n",
      " [0.48188028]\n",
      " [0.8000386 ]\n",
      " [0.45740038]\n",
      " [0.7879256 ]\n",
      " [0.6204054 ]\n",
      " [0.654104  ]\n",
      " [0.3568583 ]\n",
      " [0.5830475 ]\n",
      " [0.68100536]\n",
      " [0.67134255]\n",
      " [0.4374466 ]\n",
      " [0.7715837 ]\n",
      " [0.67830074]\n",
      " [0.6992842 ]\n",
      " [0.6319375 ]\n",
      " [0.635773  ]\n",
      " [0.6759577 ]\n",
      " [0.7136998 ]\n",
      " [0.68932337]\n",
      " [0.26799205]\n",
      " [0.25753152]\n",
      " [0.7085378 ]\n",
      " [0.5684212 ]\n",
      " [0.4068781 ]\n",
      " [0.5452578 ]\n",
      " [0.49232367]\n",
      " [0.6399281 ]\n",
      " [0.3150497 ]\n",
      " [0.58245504]\n",
      " [0.22070488]\n",
      " [0.6853991 ]\n",
      " [0.37408435]\n",
      " [0.56865627]\n",
      " [0.7584089 ]\n",
      " [0.41753638]\n",
      " [0.7415476 ]\n",
      " [0.782416  ]\n",
      " [0.729561  ]\n",
      " [0.29111356]\n",
      " [0.27528566]\n",
      " [0.406094  ]\n",
      " [0.32567263]\n",
      " [0.6710158 ]\n",
      " [0.5594159 ]\n",
      " [0.27252564]\n",
      " [0.5662906 ]\n",
      " [0.568671  ]\n",
      " [0.6480575 ]\n",
      " [0.5648257 ]\n",
      " [0.70418674]\n",
      " [0.2831934 ]\n",
      " [0.6760917 ]\n",
      " [0.65771335]\n",
      " [0.64765704]\n",
      " [0.78669465]\n",
      " [0.39025995]\n",
      " [0.47297823]\n",
      " [0.65403986]\n",
      " [0.5773867 ]\n",
      " [0.62078804]\n",
      " [0.6475797 ]\n",
      " [0.6145797 ]\n",
      " [0.6621083 ]\n",
      " [0.6457348 ]\n",
      " [0.5957343 ]\n",
      " [0.6352539 ]\n",
      " [0.62895024]\n",
      " [0.53764665]\n",
      " [0.2597583 ]\n",
      " [0.62664247]\n",
      " [0.7027675 ]\n",
      " [0.38146377]\n",
      " [0.5941305 ]\n",
      " [0.7103198 ]\n",
      " [0.710799  ]\n",
      " [0.66159606]\n",
      " [0.52799255]\n",
      " [0.6850551 ]\n",
      " [0.4341089 ]\n",
      " [0.63491553]\n",
      " [0.74076474]\n",
      " [0.44977507]\n",
      " [0.6623898 ]\n",
      " [0.47886896]\n",
      " [0.2766254 ]\n",
      " [0.42227378]\n",
      " [0.71438825]\n",
      " [0.55442256]\n",
      " [0.74896395]]\n"
     ]
    }
   ],
   "source": [
    "pred_test = model.predict(x=x_test)\n",
    "print(pred_test)"
   ]
  },
  {
   "cell_type": "code",
   "execution_count": 29,
   "metadata": {},
   "outputs": [
    {
     "name": "stdout",
     "output_type": "stream",
     "text": [
      "[[ True]\n",
      " [ True]\n",
      " [False]\n",
      " [False]\n",
      " [ True]\n",
      " [ True]\n",
      " [False]\n",
      " [ True]\n",
      " [ True]\n",
      " [False]\n",
      " [ True]\n",
      " [False]\n",
      " [ True]\n",
      " [ True]\n",
      " [False]\n",
      " [ True]\n",
      " [ True]\n",
      " [ True]\n",
      " [False]\n",
      " [False]\n",
      " [ True]\n",
      " [False]\n",
      " [ True]\n",
      " [ True]\n",
      " [ True]\n",
      " [False]\n",
      " [False]\n",
      " [ True]\n",
      " [ True]\n",
      " [ True]\n",
      " [False]\n",
      " [ True]\n",
      " [ True]\n",
      " [False]\n",
      " [ True]\n",
      " [ True]\n",
      " [ True]\n",
      " [ True]\n",
      " [ True]\n",
      " [ True]\n",
      " [ True]\n",
      " [ True]\n",
      " [ True]\n",
      " [ True]\n",
      " [ True]\n",
      " [ True]\n",
      " [ True]\n",
      " [False]\n",
      " [ True]\n",
      " [ True]\n",
      " [ True]\n",
      " [ True]\n",
      " [False]\n",
      " [ True]\n",
      " [False]\n",
      " [ True]\n",
      " [ True]\n",
      " [ True]\n",
      " [False]\n",
      " [ True]\n",
      " [ True]\n",
      " [False]\n",
      " [ True]\n",
      " [ True]\n",
      " [ True]\n",
      " [ True]\n",
      " [False]\n",
      " [False]\n",
      " [ True]\n",
      " [False]\n",
      " [ True]\n",
      " [False]\n",
      " [False]\n",
      " [False]\n",
      " [ True]\n",
      " [False]\n",
      " [ True]\n",
      " [ True]\n",
      " [ True]\n",
      " [ True]\n",
      " [False]\n",
      " [ True]\n",
      " [ True]\n",
      " [ True]\n",
      " [ True]\n",
      " [ True]\n",
      " [False]\n",
      " [ True]\n",
      " [ True]\n",
      " [False]\n",
      " [False]\n",
      " [ True]\n",
      " [False]\n",
      " [ True]\n",
      " [False]\n",
      " [ True]\n",
      " [ True]\n",
      " [ True]\n",
      " [False]\n",
      " [False]\n",
      " [ True]\n",
      " [ True]\n",
      " [ True]\n",
      " [ True]\n",
      " [False]\n",
      " [False]\n",
      " [False]\n",
      " [ True]\n",
      " [False]\n",
      " [ True]\n",
      " [ True]\n",
      " [ True]\n",
      " [False]\n",
      " [False]\n",
      " [ True]\n",
      " [False]\n",
      " [ True]\n",
      " [False]\n",
      " [False]\n",
      " [False]\n",
      " [ True]\n",
      " [ True]\n",
      " [ True]\n",
      " [ True]\n",
      " [ True]\n",
      " [ True]\n",
      " [ True]\n",
      " [ True]\n",
      " [False]\n",
      " [ True]\n",
      " [ True]\n",
      " [ True]\n",
      " [ True]\n",
      " [False]\n",
      " [ True]\n",
      " [ True]\n",
      " [ True]\n",
      " [ True]\n",
      " [False]\n",
      " [False]\n",
      " [ True]\n",
      " [ True]\n",
      " [False]\n",
      " [ True]\n",
      " [False]\n",
      " [False]\n",
      " [ True]\n",
      " [False]\n",
      " [ True]\n",
      " [ True]\n",
      " [ True]\n",
      " [False]\n",
      " [ True]\n",
      " [ True]\n",
      " [ True]\n",
      " [False]\n",
      " [ True]\n",
      " [ True]\n",
      " [ True]\n",
      " [ True]\n",
      " [ True]\n",
      " [ True]\n",
      " [ True]\n",
      " [ True]\n",
      " [False]\n",
      " [False]\n",
      " [ True]\n",
      " [ True]\n",
      " [False]\n",
      " [ True]\n",
      " [False]\n",
      " [ True]\n",
      " [False]\n",
      " [ True]\n",
      " [False]\n",
      " [ True]\n",
      " [False]\n",
      " [ True]\n",
      " [ True]\n",
      " [False]\n",
      " [ True]\n",
      " [ True]\n",
      " [ True]\n",
      " [False]\n",
      " [False]\n",
      " [False]\n",
      " [False]\n",
      " [ True]\n",
      " [ True]\n",
      " [False]\n",
      " [ True]\n",
      " [ True]\n",
      " [ True]\n",
      " [ True]\n",
      " [ True]\n",
      " [False]\n",
      " [ True]\n",
      " [ True]\n",
      " [ True]\n",
      " [ True]\n",
      " [False]\n",
      " [False]\n",
      " [ True]\n",
      " [ True]\n",
      " [ True]\n",
      " [ True]\n",
      " [ True]\n",
      " [ True]\n",
      " [ True]\n",
      " [ True]\n",
      " [ True]\n",
      " [ True]\n",
      " [ True]\n",
      " [False]\n",
      " [ True]\n",
      " [ True]\n",
      " [False]\n",
      " [ True]\n",
      " [ True]\n",
      " [ True]\n",
      " [ True]\n",
      " [ True]\n",
      " [ True]\n",
      " [False]\n",
      " [ True]\n",
      " [ True]\n",
      " [False]\n",
      " [ True]\n",
      " [False]\n",
      " [False]\n",
      " [False]\n",
      " [ True]\n",
      " [ True]\n",
      " [ True]]\n"
     ]
    }
   ],
   "source": [
    "checking = pred_test >= 0.5\n",
    "print(checking)"
   ]
  },
  {
   "cell_type": "code",
   "execution_count": 30,
   "metadata": {},
   "outputs": [
    {
     "name": "stdout",
     "output_type": "stream",
     "text": [
      "[[1]\n",
      " [1]\n",
      " [0]\n",
      " [0]\n",
      " [1]\n",
      " [1]\n",
      " [0]\n",
      " [1]\n",
      " [1]\n",
      " [0]\n",
      " [1]\n",
      " [0]\n",
      " [1]\n",
      " [1]\n",
      " [0]\n",
      " [1]\n",
      " [1]\n",
      " [1]\n",
      " [0]\n",
      " [0]\n",
      " [1]\n",
      " [0]\n",
      " [1]\n",
      " [1]\n",
      " [1]\n",
      " [0]\n",
      " [0]\n",
      " [1]\n",
      " [1]\n",
      " [1]\n",
      " [0]\n",
      " [1]\n",
      " [1]\n",
      " [0]\n",
      " [1]\n",
      " [1]\n",
      " [1]\n",
      " [1]\n",
      " [1]\n",
      " [1]\n",
      " [1]\n",
      " [1]\n",
      " [1]\n",
      " [1]\n",
      " [1]\n",
      " [1]\n",
      " [1]\n",
      " [0]\n",
      " [1]\n",
      " [1]\n",
      " [1]\n",
      " [1]\n",
      " [0]\n",
      " [1]\n",
      " [0]\n",
      " [1]\n",
      " [1]\n",
      " [1]\n",
      " [0]\n",
      " [1]\n",
      " [1]\n",
      " [0]\n",
      " [1]\n",
      " [1]\n",
      " [1]\n",
      " [1]\n",
      " [0]\n",
      " [0]\n",
      " [1]\n",
      " [0]\n",
      " [1]\n",
      " [0]\n",
      " [0]\n",
      " [0]\n",
      " [1]\n",
      " [0]\n",
      " [1]\n",
      " [1]\n",
      " [1]\n",
      " [1]\n",
      " [0]\n",
      " [1]\n",
      " [1]\n",
      " [1]\n",
      " [1]\n",
      " [1]\n",
      " [0]\n",
      " [1]\n",
      " [1]\n",
      " [0]\n",
      " [0]\n",
      " [1]\n",
      " [0]\n",
      " [1]\n",
      " [0]\n",
      " [1]\n",
      " [1]\n",
      " [1]\n",
      " [0]\n",
      " [0]\n",
      " [1]\n",
      " [1]\n",
      " [1]\n",
      " [1]\n",
      " [0]\n",
      " [0]\n",
      " [0]\n",
      " [1]\n",
      " [0]\n",
      " [1]\n",
      " [1]\n",
      " [1]\n",
      " [0]\n",
      " [0]\n",
      " [1]\n",
      " [0]\n",
      " [1]\n",
      " [0]\n",
      " [0]\n",
      " [0]\n",
      " [1]\n",
      " [1]\n",
      " [1]\n",
      " [1]\n",
      " [1]\n",
      " [1]\n",
      " [1]\n",
      " [1]\n",
      " [0]\n",
      " [1]\n",
      " [1]\n",
      " [1]\n",
      " [1]\n",
      " [0]\n",
      " [1]\n",
      " [1]\n",
      " [1]\n",
      " [1]\n",
      " [0]\n",
      " [0]\n",
      " [1]\n",
      " [1]\n",
      " [0]\n",
      " [1]\n",
      " [0]\n",
      " [0]\n",
      " [1]\n",
      " [0]\n",
      " [1]\n",
      " [1]\n",
      " [1]\n",
      " [0]\n",
      " [1]\n",
      " [1]\n",
      " [1]\n",
      " [0]\n",
      " [1]\n",
      " [1]\n",
      " [1]\n",
      " [1]\n",
      " [1]\n",
      " [1]\n",
      " [1]\n",
      " [1]\n",
      " [0]\n",
      " [0]\n",
      " [1]\n",
      " [1]\n",
      " [0]\n",
      " [1]\n",
      " [0]\n",
      " [1]\n",
      " [0]\n",
      " [1]\n",
      " [0]\n",
      " [1]\n",
      " [0]\n",
      " [1]\n",
      " [1]\n",
      " [0]\n",
      " [1]\n",
      " [1]\n",
      " [1]\n",
      " [0]\n",
      " [0]\n",
      " [0]\n",
      " [0]\n",
      " [1]\n",
      " [1]\n",
      " [0]\n",
      " [1]\n",
      " [1]\n",
      " [1]\n",
      " [1]\n",
      " [1]\n",
      " [0]\n",
      " [1]\n",
      " [1]\n",
      " [1]\n",
      " [1]\n",
      " [0]\n",
      " [0]\n",
      " [1]\n",
      " [1]\n",
      " [1]\n",
      " [1]\n",
      " [1]\n",
      " [1]\n",
      " [1]\n",
      " [1]\n",
      " [1]\n",
      " [1]\n",
      " [1]\n",
      " [0]\n",
      " [1]\n",
      " [1]\n",
      " [0]\n",
      " [1]\n",
      " [1]\n",
      " [1]\n",
      " [1]\n",
      " [1]\n",
      " [1]\n",
      " [0]\n",
      " [1]\n",
      " [1]\n",
      " [0]\n",
      " [1]\n",
      " [0]\n",
      " [0]\n",
      " [0]\n",
      " [1]\n",
      " [1]\n",
      " [1]]\n"
     ]
    }
   ],
   "source": [
    "answer = checking.astype(int)\n",
    "print(answer)"
   ]
  },
  {
   "cell_type": "code",
   "execution_count": 93,
   "metadata": {},
   "outputs": [],
   "source": [
    "f = open(\"labels.txt\", \"w\")\n",
    "for i in range(len(answer)):\n",
    "    f.write(str(answer[i][0]) + \"\\n\")\n",
    "f.close()"
   ]
  }
 ],
 "metadata": {
  "kernelspec": {
   "display_name": "tf",
   "language": "python",
   "name": "tf"
  },
  "language_info": {
   "codemirror_mode": {
    "name": "ipython",
    "version": 3
   },
   "file_extension": ".py",
   "mimetype": "text/x-python",
   "name": "python",
   "nbconvert_exporter": "python",
   "pygments_lexer": "ipython3",
   "version": "3.6.12"
  }
 },
 "nbformat": 4,
 "nbformat_minor": 4
}
