{
 "cells": [
  {
   "cell_type": "code",
   "execution_count": 1,
   "metadata": {},
   "outputs": [],
   "source": [
    "import tensorflow as tf\n",
    "import numpy as np\n",
    "import h5py\n",
    "import matplotlib.pyplot as plt\n",
    "import random\n",
    "import csv\n",
    "import os\n",
    "import collections\n",
    "import time\n",
    "import math\n",
    "import pickle\n",
    "import re\n",
    "from tensorflow import keras\n",
    "from tensorflow.keras.models import Sequential\n",
    "from tensorflow.keras.layers import InputLayer, Input\n",
    "from tensorflow.keras.layers import Reshape, MaxPooling2D\n",
    "from tensorflow.keras.layers import Conv2D, Dense, Flatten\n",
    "from tensorflow.keras.optimizers import Adam\n",
    "from tensorflow.python.keras.models import load_model\n"
   ]
  },
  {
   "cell_type": "code",
   "execution_count": 2,
   "metadata": {},
   "outputs": [
    {
     "data": {
      "text/plain": [
       "'1.15.4'"
      ]
     },
     "execution_count": 2,
     "metadata": {},
     "output_type": "execute_result"
    }
   ],
   "source": [
    "tf.__version__"
   ]
  },
  {
   "cell_type": "code",
   "execution_count": 3,
   "metadata": {},
   "outputs": [
    {
     "data": {
      "text/plain": [
       "'2.10.0'"
      ]
     },
     "execution_count": 3,
     "metadata": {},
     "output_type": "execute_result"
    }
   ],
   "source": [
    "h5py.__version__"
   ]
  },
  {
   "cell_type": "code",
   "execution_count": 4,
   "metadata": {},
   "outputs": [],
   "source": [
    "train_labels = open(\"SR-ARE-train/names_labels.txt\",\"r\")\n",
    "content = train_labels.read()\n",
    "#print(content)"
   ]
  },
  {
   "cell_type": "code",
   "execution_count": 5,
   "metadata": {},
   "outputs": [
    {
     "name": "stdout",
     "output_type": "stream",
     "text": [
      "6069 1098\n"
     ]
    }
   ],
   "source": [
    "content_list = re.split(\",|\\n\",content)\n",
    "#print(content_list)\n",
    "#print(len(content_list))\n",
    "\n",
    "print(content_list.count(\"0\"),content_list.count(\"1\"))"
   ]
  },
  {
   "cell_type": "code",
   "execution_count": 6,
   "metadata": {},
   "outputs": [],
   "source": [
    "drug_dict = {content_list[2*i]:float(content_list[2*i+1]) for i in range(len(content_list)//2)}\n",
    "#print(drug_dict)\n",
    "#print(len(drug_dict))"
   ]
  },
  {
   "cell_type": "code",
   "execution_count": 7,
   "metadata": {},
   "outputs": [],
   "source": [
    "train_smiles = open(\"SR-ARE-train/names_smiles.txt\",\"r\")\n",
    "dtent = train_smiles.read()\n",
    "#print(dtent)"
   ]
  },
  {
   "cell_type": "code",
   "execution_count": 8,
   "metadata": {},
   "outputs": [],
   "source": [
    "dtent_list = re.split(\",|\\n\",dtent)\n",
    "drug_name_dict = {dtent_list[2*i]:dtent_list[2*i+1] for i in range(len(dtent_list)//2)}\n",
    "#print(drug_name_dict)\n",
    "#print(len(drug_name_dict))"
   ]
  },
  {
   "cell_type": "code",
   "execution_count": 9,
   "metadata": {},
   "outputs": [],
   "source": [
    "train_one_hot = open(\"SR-ARE-train/names_onehots.pickle\",\"rb\")\n",
    "rtent = pickle.load(train_one_hot)\n",
    "#print(rtent)"
   ]
  },
  {
   "cell_type": "code",
   "execution_count": 10,
   "metadata": {},
   "outputs": [
    {
     "name": "stdout",
     "output_type": "stream",
     "text": [
      "<class 'dict'>\n",
      "<class 'numpy.ndarray'>\n",
      "(7167, 70, 325)\n"
     ]
    }
   ],
   "source": [
    "print(type(rtent))\n",
    "print(type(rtent[\"onehots\"]))\n",
    "print(rtent[\"onehots\"].shape)\n"
   ]
  },
  {
   "cell_type": "code",
   "execution_count": 11,
   "metadata": {},
   "outputs": [
    {
     "name": "stdout",
     "output_type": "stream",
     "text": [
      "<class 'list'>\n"
     ]
    }
   ],
   "source": [
    "print(type(rtent[\"names\"]))"
   ]
  },
  {
   "cell_type": "code",
   "execution_count": 12,
   "metadata": {},
   "outputs": [
    {
     "name": "stdout",
     "output_type": "stream",
     "text": [
      "(7167, 70, 325)\n",
      "(7167,)\n"
     ]
    }
   ],
   "source": [
    "x_train = rtent[\"onehots\"]\n",
    "label = rtent[\"names\"]\n",
    "zlabel = [drug_dict[label[i]] for i in range(len(label))]\n",
    "#print(len(zlabel))\n",
    "y_train = np.array(zlabel,float)\n",
    "print(x_train.shape)\n",
    "print(y_train.shape)\n"
   ]
  },
  {
   "cell_type": "code",
   "execution_count": 13,
   "metadata": {},
   "outputs": [
    {
     "name": "stdout",
     "output_type": "stream",
     "text": [
      "70\n",
      "325\n",
      "(70, 325)\n",
      "(70, 325, 1)\n"
     ]
    }
   ],
   "source": [
    "drug_height = x_train.shape[1]\n",
    "print(drug_height)\n",
    "drug_width = x_train.shape[2]\n",
    "print(drug_width)\n",
    "drug_shape = (drug_height , drug_width)\n",
    "print(drug_shape)\n",
    "drug_full_shape = (drug_height , drug_width,1)\n",
    "print(drug_full_shape)\n",
    "no_class = 1\n",
    "no_channel = 1"
   ]
  },
  {
   "cell_type": "code",
   "execution_count": 14,
   "metadata": {},
   "outputs": [],
   "source": [
    "def find_formula(dictlist,namelabel,y):\n",
    "    for i in range(9):\n",
    "        print(namelabel[i],dictlist[namelabel[i]],y[i])"
   ]
  },
  {
   "cell_type": "code",
   "execution_count": 15,
   "metadata": {},
   "outputs": [
    {
     "name": "stdout",
     "output_type": "stream",
     "text": [
      "NCGC00254346-01 CC(C)=CCC\\C(C)=C/CO 0.0\n",
      "NCGC00254668-01 FC1=CC=CC(F)=C1C(=O)NC(=O)NC2=C(F)C=C(OC3=C(Cl)C=C(C=C3)C(F)(F)F)C=C2 1.0\n",
      "NCGC00015646-05 Cl.CC1=CNN=C1 0.0\n",
      "NCGC00255698-01 CC1(C)[C@H](C=C(Cl)Cl)[C@@H]1C(=O)O[C@@H](C#N)C2=CC=CC(OC3=CC=CC=C3)=C2 0.0\n",
      "NCGC00160628-03 C[C@@H]1O[C@@H](OC[C@H]2O[C@@H](OC3=C(OC4=C(C3=O)C(O)=CC(O)=C4)C5=CC(O)=C(O)C=C5)[C@H](O)[C@@H](O)[C@@H]2O)[C@H](O)[C@H](O)[C@H]1O 0.0\n",
      "NCGC00255567-01 CCCCCCOC1=C(C=CC=C1)C(O)=O 0.0\n",
      "NCGC00262943-01 OCCNCCO.CC(OC(=O)C1(C)CCC(C(O)=O)C1(C)C)C2=CC=C(C)C=C2 0.0\n",
      "NCGC00256129-01 CCCCOC(=O)CCCCCCCC(=O)OCCCC 0.0\n",
      "NCGC00016666-06 Br.COC1=C2CN(C)CCC2=CC3=C1OCO3 0.0\n"
     ]
    }
   ],
   "source": [
    "find_formula(drug_name_dict,label[0:9],y_train[0:9])"
   ]
  },
  {
   "cell_type": "code",
   "execution_count": 16,
   "metadata": {},
   "outputs": [],
   "source": [
    "def find_example_error(pred,dictlist,namelabel,y):\n",
    "    incorrect = (pred != y)\n",
    "    namelabel = namelabel[incorrect]\n",
    "    pred = pred[incorrect]\n",
    "    find_formula(dictlist,namelabel[0:9],y[0:9])"
   ]
  },
  {
   "cell_type": "code",
   "execution_count": 14,
   "metadata": {},
   "outputs": [
    {
     "name": "stdout",
     "output_type": "stream",
     "text": [
      "WARNING:tensorflow:From C:\\Users\\user\\Anaconda3\\envs\\tf\\lib\\site-packages\\tensorflow_core\\python\\ops\\resource_variable_ops.py:1630: calling BaseResourceVariable.__init__ (from tensorflow.python.ops.resource_variable_ops) with constraint is deprecated and will be removed in a future version.\n",
      "Instructions for updating:\n",
      "If using Keras pass *_constraint arguments to layers.\n"
     ]
    }
   ],
   "source": [
    "model = Sequential()\n",
    "model.add(InputLayer(input_shape=(drug_height,drug_width,)))\n",
    "\n",
    "model.add(Reshape(drug_full_shape))\n",
    "\n",
    "model.add(Conv2D(kernel_size=(1,16),strides=1,filters=8,padding='same',activation='relu',name=\"conv1\"))\n",
    "model.add(MaxPooling2D(pool_size=(1,2), strides=(1,2),padding='same'))\n",
    "\n",
    "model.add(Conv2D(kernel_size=(1,16),strides=1,filters=16,padding='same',activation='relu',name=\"conv2\"))\n",
    "model.add(MaxPooling2D(pool_size=(1,2), strides=(1,2),padding='same'))\n",
    "\n",
    "model.add(Conv2D(kernel_size=(1,16),strides=1,filters=32,padding='same',activation='relu',name=\"conv3\"))\n",
    "model.add(MaxPooling2D(pool_size=(1,4), strides=(1,4),padding='same'))\n",
    "\n",
    "model.add(Flatten())\n",
    "\n",
    "model.add(Dense(140,activation=\"relu\"))\n",
    "\n",
    "model.add(Dense(no_class,activation=\"sigmoid\"))\n",
    "\n"
   ]
  },
  {
   "cell_type": "code",
   "execution_count": 15,
   "metadata": {},
   "outputs": [
    {
     "name": "stdout",
     "output_type": "stream",
     "text": [
      "Model: \"sequential\"\n",
      "_________________________________________________________________\n",
      "Layer (type)                 Output Shape              Param #   \n",
      "=================================================================\n",
      "reshape (Reshape)            (None, 70, 325, 1)        0         \n",
      "_________________________________________________________________\n",
      "conv1 (Conv2D)               (None, 70, 325, 8)        136       \n",
      "_________________________________________________________________\n",
      "max_pooling2d (MaxPooling2D) (None, 70, 163, 8)        0         \n",
      "_________________________________________________________________\n",
      "conv2 (Conv2D)               (None, 70, 163, 16)       2064      \n",
      "_________________________________________________________________\n",
      "max_pooling2d_1 (MaxPooling2 (None, 70, 82, 16)        0         \n",
      "_________________________________________________________________\n",
      "conv3 (Conv2D)               (None, 70, 82, 32)        8224      \n",
      "_________________________________________________________________\n",
      "max_pooling2d_2 (MaxPooling2 (None, 70, 21, 32)        0         \n",
      "_________________________________________________________________\n",
      "flatten (Flatten)            (None, 47040)             0         \n",
      "_________________________________________________________________\n",
      "dense (Dense)                (None, 140)               6585740   \n",
      "_________________________________________________________________\n",
      "dense_1 (Dense)              (None, 1)                 141       \n",
      "=================================================================\n",
      "Total params: 6,596,305\n",
      "Trainable params: 6,596,305\n",
      "Non-trainable params: 0\n",
      "_________________________________________________________________\n",
      "None\n"
     ]
    }
   ],
   "source": [
    "print(model.summary())"
   ]
  },
  {
   "cell_type": "code",
   "execution_count": 16,
   "metadata": {},
   "outputs": [],
   "source": [
    "optimizer = Adam(lr=1e-4)"
   ]
  },
  {
   "cell_type": "code",
   "execution_count": 17,
   "metadata": {},
   "outputs": [
    {
     "name": "stdout",
     "output_type": "stream",
     "text": [
      "WARNING:tensorflow:From C:\\Users\\user\\Anaconda3\\envs\\tf\\lib\\site-packages\\tensorflow_core\\python\\ops\\nn_impl.py:183: where (from tensorflow.python.ops.array_ops) is deprecated and will be removed in a future version.\n",
      "Instructions for updating:\n",
      "Use tf.where in 2.0, which has the same broadcast rule as np.where\n"
     ]
    }
   ],
   "source": [
    "model.compile(optimizer=optimizer,loss=\"binary_crossentropy\", metrics=['accuracy'])"
   ]
  },
  {
   "cell_type": "code",
   "execution_count": 66,
   "metadata": {},
   "outputs": [
    {
     "name": "stdout",
     "output_type": "stream",
     "text": [
      "Train on 7167 samples\n",
      "Epoch 1/10\n",
      "7167/7167 [==============================] - 98s 14ms/sample - loss: 0.0658 - acc: 0.9795\n",
      "Epoch 2/10\n",
      "7167/7167 [==============================] - 112s 16ms/sample - loss: 0.0689 - acc: 0.9812\n",
      "Epoch 3/10\n",
      "7167/7167 [==============================] - 105s 15ms/sample - loss: 0.0697 - acc: 0.9796\n",
      "Epoch 4/10\n",
      "7167/7167 [==============================] - 113s 16ms/sample - loss: 0.0656 - acc: 0.9812\n",
      "Epoch 5/10\n",
      "7167/7167 [==============================] - 118s 16ms/sample - loss: 0.0685 - acc: 0.9799\n",
      "Epoch 6/10\n",
      "7167/7167 [==============================] - 116s 16ms/sample - loss: 0.0654 - acc: 0.9789\n",
      "Epoch 7/10\n",
      "7167/7167 [==============================] - 119s 17ms/sample - loss: 0.0672 - acc: 0.9802\n",
      "Epoch 8/10\n",
      "7167/7167 [==============================] - 116s 16ms/sample - loss: 0.0629 - acc: 0.9802\n",
      "Epoch 9/10\n",
      "7167/7167 [==============================] - 116s 16ms/sample - loss: 0.0632 - acc: 0.9806\n",
      "Epoch 10/10\n",
      "7167/7167 [==============================] - 118s 16ms/sample - loss: 0.0602 - acc: 0.9820\n"
     ]
    },
    {
     "data": {
      "text/plain": [
       "<tensorflow.python.keras.callbacks.History at 0x151822fcc50>"
      ]
     },
     "execution_count": 66,
     "metadata": {},
     "output_type": "execute_result"
    }
   ],
   "source": [
    "model.fit(x=x_train, y=y_train, epochs=10, batch_size=64)"
   ]
  },
  {
   "cell_type": "code",
   "execution_count": 18,
   "metadata": {},
   "outputs": [],
   "source": [
    "test_labels = open(\"SR-ARE-test/names_labels.txt\",\"r\")\n",
    "ttcontent = test_labels.read()"
   ]
  },
  {
   "cell_type": "code",
   "execution_count": 19,
   "metadata": {},
   "outputs": [
    {
     "name": "stdout",
     "output_type": "stream",
     "text": [
      "186 48\n"
     ]
    }
   ],
   "source": [
    "ttcontent_list = re.split(\",|\\n\",ttcontent)\n",
    "#print(ttcontent_list)\n",
    "#print(len(ttcontent_list))\n",
    "print(ttcontent_list.count(\"0\"),ttcontent_list.count(\"1\"))"
   ]
  },
  {
   "cell_type": "code",
   "execution_count": 20,
   "metadata": {},
   "outputs": [],
   "source": [
    "ttdrug_dict = {ttcontent_list[2*i]:float(ttcontent_list[2*i+1]) for i in range(len(ttcontent_list)//2)}\n",
    "#print(drug_dict)\n",
    "#print(len(drug_dict))"
   ]
  },
  {
   "cell_type": "code",
   "execution_count": 21,
   "metadata": {},
   "outputs": [],
   "source": [
    "test_smiles = open(\"SR-ARE-test/names_smiles.txt\",\"r\")\n",
    "ttdtent = test_smiles.read()\n",
    "#print(ttdtent)"
   ]
  },
  {
   "cell_type": "code",
   "execution_count": 22,
   "metadata": {},
   "outputs": [
    {
     "name": "stdout",
     "output_type": "stream",
     "text": [
      "234\n"
     ]
    }
   ],
   "source": [
    "ttdtent_list = re.split(\",|\\n\",ttdtent)\n",
    "ttdrug_name_dict = {ttdtent_list[2*i]:ttdtent_list[2*i+1] for i in range(len(ttdtent_list)//2)}\n",
    "#print(ttdrug_name_dict)\n",
    "print(len(ttdrug_name_dict))"
   ]
  },
  {
   "cell_type": "code",
   "execution_count": 23,
   "metadata": {},
   "outputs": [],
   "source": [
    "test_one_hot = open(\"SR-ARE-test/names_onehots.pickle\",\"rb\")\n",
    "ttrtent = pickle.load(test_one_hot)\n",
    "#print(rtent)"
   ]
  },
  {
   "cell_type": "code",
   "execution_count": 24,
   "metadata": {},
   "outputs": [],
   "source": [
    "x_test = ttrtent[\"onehots\"]\n",
    "ttlabel = ttrtent[\"names\"]\n",
    "ttzlabel = [ttdrug_dict[ttlabel[i]] for i in range(len(ttlabel))]\n",
    "#print(len(zlabel))\n",
    "y_test = np.array(ttzlabel,float)"
   ]
  },
  {
   "cell_type": "code",
   "execution_count": 68,
   "metadata": {},
   "outputs": [
    {
     "name": "stdout",
     "output_type": "stream",
     "text": [
      "234/234 [==============================] - 1s 3ms/sample - loss: 1.7033 - acc: 0.7479\n"
     ]
    }
   ],
   "source": [
    "result = model.evaluate(x=x_test,y=y_test)"
   ]
  },
  {
   "cell_type": "code",
   "execution_count": 39,
   "metadata": {},
   "outputs": [
    {
     "name": "stdout",
     "output_type": "stream",
     "text": [
      "loss 0.9232861667107313\n",
      "acc 0.7777778\n"
     ]
    }
   ],
   "source": [
    "for name, value in zip(model.metrics_names, result):\n",
    "    print(name, value)"
   ]
  },
  {
   "cell_type": "code",
   "execution_count": 67,
   "metadata": {},
   "outputs": [],
   "source": [
    "#save model\n",
    "path_model = 'model/model1-3.keras'\n",
    "model.save(path_model)"
   ]
  },
  {
   "cell_type": "code",
   "execution_count": 25,
   "metadata": {},
   "outputs": [
    {
     "name": "stdout",
     "output_type": "stream",
     "text": [
      "WARNING:tensorflow:From C:\\Users\\user\\Anaconda3\\envs\\tf\\lib\\site-packages\\tensorflow_core\\python\\ops\\init_ops.py:97: calling GlorotUniform.__init__ (from tensorflow.python.ops.init_ops) with dtype is deprecated and will be removed in a future version.\n",
      "Instructions for updating:\n",
      "Call initializer instance with the dtype argument instead of passing it to the constructor\n",
      "WARNING:tensorflow:From C:\\Users\\user\\Anaconda3\\envs\\tf\\lib\\site-packages\\tensorflow_core\\python\\ops\\init_ops.py:97: calling Zeros.__init__ (from tensorflow.python.ops.init_ops) with dtype is deprecated and will be removed in a future version.\n",
      "Instructions for updating:\n",
      "Call initializer instance with the dtype argument instead of passing it to the constructor\n"
     ]
    }
   ],
   "source": [
    "path_model = 'model/model1-2.keras'\n",
    "model = tf.keras.models.load_model(path_model)"
   ]
  },
  {
   "cell_type": "code",
   "execution_count": 55,
   "metadata": {},
   "outputs": [
    {
     "name": "stdout",
     "output_type": "stream",
     "text": [
      "[[2.80839205e-03]\n",
      " [9.53189969e-01]\n",
      " [6.93500042e-05]\n",
      " [1.95192993e-02]\n",
      " [1.40789747e-02]\n",
      " [2.62403488e-03]\n",
      " [2.44379044e-06]\n",
      " [5.97563326e-01]\n",
      " [0.00000000e+00]\n",
      " [8.64267349e-07]\n",
      " [8.90887856e-01]\n",
      " [4.26173210e-06]\n",
      " [0.00000000e+00]\n",
      " [0.00000000e+00]\n",
      " [7.36922026e-03]\n",
      " [1.83254480e-04]\n",
      " [6.31746650e-03]\n",
      " [2.80559063e-04]\n",
      " [1.00407004e-03]\n",
      " [4.18410599e-02]\n",
      " [1.71029389e-01]\n",
      " [5.36511242e-01]\n",
      " [2.78132975e-01]\n",
      " [8.97166729e-02]\n",
      " [5.96046448e-08]\n",
      " [3.83682698e-01]\n",
      " [0.00000000e+00]\n",
      " [4.05907631e-05]\n",
      " [1.26302242e-04]\n",
      " [8.36610794e-04]\n",
      " [9.02622938e-04]\n",
      " [5.77867031e-05]\n",
      " [7.41117239e-01]\n",
      " [6.71327114e-04]\n",
      " [8.39582086e-03]\n",
      " [9.80225086e-01]\n",
      " [1.05202198e-03]\n",
      " [6.57696128e-01]\n",
      " [4.25167680e-02]\n",
      " [5.04138172e-02]\n",
      " [9.56730366e-01]\n",
      " [9.36998963e-01]\n",
      " [9.41836476e-01]\n",
      " [6.05339408e-02]\n",
      " [4.35549021e-03]\n",
      " [0.00000000e+00]\n",
      " [1.29915774e-02]\n",
      " [5.99199593e-01]\n",
      " [8.05991769e-01]\n",
      " [2.91242421e-01]\n",
      " [1.86203420e-02]\n",
      " [9.32574272e-04]\n",
      " [8.18366110e-02]\n",
      " [5.44548035e-03]\n",
      " [1.78813934e-07]\n",
      " [1.00000000e+00]\n",
      " [1.89465284e-03]\n",
      " [0.00000000e+00]\n",
      " [1.57719851e-03]\n",
      " [2.71321237e-02]\n",
      " [6.63995743e-05]\n",
      " [2.63343155e-02]\n",
      " [2.41398811e-06]\n",
      " [0.00000000e+00]\n",
      " [2.68458724e-02]\n",
      " [7.91264415e-01]\n",
      " [9.93075669e-01]\n",
      " [1.19209290e-07]\n",
      " [8.88927996e-01]\n",
      " [7.26282597e-05]\n",
      " [5.08636236e-03]\n",
      " [1.77609921e-03]\n",
      " [6.51299953e-04]\n",
      " [1.81912780e-02]\n",
      " [9.50311422e-01]\n",
      " [2.86266208e-03]\n",
      " [6.34204805e-01]\n",
      " [4.47378427e-01]\n",
      " [1.99469924e-02]\n",
      " [1.33174747e-01]\n",
      " [2.72550285e-01]\n",
      " [5.28031886e-02]\n",
      " [8.52911592e-01]\n",
      " [0.00000000e+00]\n",
      " [9.91453648e-01]\n",
      " [0.00000000e+00]\n",
      " [7.37765729e-02]\n",
      " [2.53409296e-01]\n",
      " [8.04364681e-04]\n",
      " [1.24143362e-02]\n",
      " [9.44042206e-03]\n",
      " [2.36962289e-01]\n",
      " [2.76505947e-04]\n",
      " [9.43526983e-01]\n",
      " [7.91698694e-04]\n",
      " [2.08616257e-07]\n",
      " [4.23237979e-02]\n",
      " [0.00000000e+00]\n",
      " [1.20234191e-02]\n",
      " [3.80873680e-04]\n",
      " [0.00000000e+00]\n",
      " [1.18679106e-02]\n",
      " [1.41375124e-01]\n",
      " [1.06615722e-01]\n",
      " [9.44471359e-03]\n",
      " [4.73856926e-06]\n",
      " [3.30107033e-01]\n",
      " [3.84160876e-03]\n",
      " [3.27825546e-07]\n",
      " [9.99999821e-01]\n",
      " [7.65101135e-01]\n",
      " [8.17139864e-01]\n",
      " [1.42130256e-03]\n",
      " [0.00000000e+00]\n",
      " [5.20974755e-01]\n",
      " [5.77569008e-05]\n",
      " [1.15336925e-01]\n",
      " [7.55973041e-01]\n",
      " [1.01923943e-05]\n",
      " [2.09641755e-02]\n",
      " [1.66579783e-02]\n",
      " [3.33487988e-05]\n",
      " [8.63083005e-02]\n",
      " [1.36947632e-03]\n",
      " [1.78516805e-02]\n",
      " [2.88486481e-05]\n",
      " [8.92093778e-03]\n",
      " [1.08904541e-02]\n",
      " [2.10404396e-05]\n",
      " [1.60300732e-03]\n",
      " [0.00000000e+00]\n",
      " [1.59462035e-01]\n",
      " [3.66444856e-01]\n",
      " [4.47034836e-07]\n",
      " [3.26167554e-01]\n",
      " [6.22570515e-05]\n",
      " [8.64069819e-01]\n",
      " [5.47886670e-01]\n",
      " [4.74810600e-02]\n",
      " [1.25097334e-02]\n",
      " [9.28599834e-02]\n",
      " [1.73845887e-03]\n",
      " [1.11886859e-03]\n",
      " [1.19149685e-03]\n",
      " [5.46365976e-04]\n",
      " [8.96871090e-04]\n",
      " [9.97820854e-01]\n",
      " [1.87754631e-05]\n",
      " [0.00000000e+00]\n",
      " [7.95480609e-03]\n",
      " [3.05889159e-01]\n",
      " [6.89158142e-02]\n",
      " [2.81944871e-03]\n",
      " [8.38708341e-01]\n",
      " [2.33948231e-05]\n",
      " [2.84758806e-02]\n",
      " [6.95568442e-01]\n",
      " [9.90980506e-01]\n",
      " [8.57337534e-01]\n",
      " [1.44446939e-01]\n",
      " [0.00000000e+00]\n",
      " [8.06221128e-01]\n",
      " [4.56130087e-01]\n",
      " [0.00000000e+00]\n",
      " [3.84509563e-03]\n",
      " [1.20290518e-02]\n",
      " [1.37421489e-03]\n",
      " [8.49326849e-02]\n",
      " [5.11021316e-02]\n",
      " [1.29736066e-02]\n",
      " [2.18743086e-03]\n",
      " [7.15846717e-01]\n",
      " [1.14828348e-04]\n",
      " [5.19666076e-03]\n",
      " [2.06705928e-03]\n",
      " [3.12896073e-02]\n",
      " [1.36600435e-02]\n",
      " [8.16489160e-02]\n",
      " [1.78813934e-07]\n",
      " [7.33435154e-05]\n",
      " [9.94719148e-01]\n",
      " [4.28170264e-02]\n",
      " [7.21645951e-02]\n",
      " [8.30471516e-04]\n",
      " [1.19447708e-04]\n",
      " [6.48087263e-03]\n",
      " [5.43693304e-02]\n",
      " [3.08165252e-02]\n",
      " [8.02334785e-01]\n",
      " [5.25215268e-03]\n",
      " [4.89236116e-02]\n",
      " [0.00000000e+00]\n",
      " [9.94781911e-01]\n",
      " [9.82537866e-03]\n",
      " [2.53915787e-05]\n",
      " [1.78813934e-07]\n",
      " [4.86105680e-04]\n",
      " [4.73715037e-01]\n",
      " [9.64333177e-01]\n",
      " [5.04416227e-03]\n",
      " [5.96046448e-08]\n",
      " [3.46079290e-01]\n",
      " [2.13685632e-03]\n",
      " [0.00000000e+00]\n",
      " [1.61046982e-02]\n",
      " [9.78682399e-01]\n",
      " [5.43753505e-01]\n",
      " [1.10268593e-06]\n",
      " [2.82914639e-01]\n",
      " [7.27744699e-01]\n",
      " [6.56220913e-02]\n",
      " [6.66297376e-02]\n",
      " [9.52839851e-04]\n",
      " [2.20304728e-03]\n",
      " [2.41876572e-01]\n",
      " [7.26600647e-01]\n",
      " [2.25654244e-03]\n",
      " [2.15653986e-01]\n",
      " [0.00000000e+00]\n",
      " [1.88499689e-04]\n",
      " [8.70811939e-03]\n",
      " [4.90796566e-03]\n",
      " [2.41547227e-01]\n",
      " [4.45339084e-03]\n",
      " [3.74615192e-05]\n",
      " [9.76934731e-01]\n",
      " [3.88067961e-03]\n",
      " [9.99678850e-01]\n",
      " [6.62108243e-01]\n",
      " [3.51196527e-03]\n",
      " [2.03848422e-01]\n",
      " [9.49285388e-01]\n",
      " [2.43152678e-03]\n",
      " [0.00000000e+00]]\n"
     ]
    }
   ],
   "source": [
    "pred_test = model.predict(x=x_test)\n",
    "print(pred_test)"
   ]
  },
  {
   "cell_type": "code",
   "execution_count": 56,
   "metadata": {},
   "outputs": [
    {
     "name": "stdout",
     "output_type": "stream",
     "text": [
      "[[False]\n",
      " [ True]\n",
      " [False]\n",
      " [False]\n",
      " [False]\n",
      " [False]\n",
      " [False]\n",
      " [ True]\n",
      " [False]\n",
      " [False]\n",
      " [ True]\n",
      " [False]\n",
      " [False]\n",
      " [False]\n",
      " [False]\n",
      " [False]\n",
      " [False]\n",
      " [False]\n",
      " [False]\n",
      " [False]\n",
      " [False]\n",
      " [ True]\n",
      " [False]\n",
      " [False]\n",
      " [False]\n",
      " [False]\n",
      " [False]\n",
      " [False]\n",
      " [False]\n",
      " [False]\n",
      " [False]\n",
      " [False]\n",
      " [ True]\n",
      " [False]\n",
      " [False]\n",
      " [ True]\n",
      " [False]\n",
      " [ True]\n",
      " [False]\n",
      " [False]\n",
      " [ True]\n",
      " [ True]\n",
      " [ True]\n",
      " [False]\n",
      " [False]\n",
      " [False]\n",
      " [False]\n",
      " [ True]\n",
      " [ True]\n",
      " [False]\n",
      " [False]\n",
      " [False]\n",
      " [False]\n",
      " [False]\n",
      " [False]\n",
      " [ True]\n",
      " [False]\n",
      " [False]\n",
      " [False]\n",
      " [False]\n",
      " [False]\n",
      " [False]\n",
      " [False]\n",
      " [False]\n",
      " [False]\n",
      " [ True]\n",
      " [ True]\n",
      " [False]\n",
      " [ True]\n",
      " [False]\n",
      " [False]\n",
      " [False]\n",
      " [False]\n",
      " [False]\n",
      " [ True]\n",
      " [False]\n",
      " [ True]\n",
      " [False]\n",
      " [False]\n",
      " [False]\n",
      " [False]\n",
      " [False]\n",
      " [ True]\n",
      " [False]\n",
      " [ True]\n",
      " [False]\n",
      " [False]\n",
      " [False]\n",
      " [False]\n",
      " [False]\n",
      " [False]\n",
      " [False]\n",
      " [False]\n",
      " [ True]\n",
      " [False]\n",
      " [False]\n",
      " [False]\n",
      " [False]\n",
      " [False]\n",
      " [False]\n",
      " [False]\n",
      " [False]\n",
      " [False]\n",
      " [False]\n",
      " [False]\n",
      " [False]\n",
      " [False]\n",
      " [False]\n",
      " [False]\n",
      " [ True]\n",
      " [ True]\n",
      " [ True]\n",
      " [False]\n",
      " [False]\n",
      " [ True]\n",
      " [False]\n",
      " [False]\n",
      " [ True]\n",
      " [False]\n",
      " [False]\n",
      " [False]\n",
      " [False]\n",
      " [False]\n",
      " [False]\n",
      " [False]\n",
      " [False]\n",
      " [False]\n",
      " [False]\n",
      " [False]\n",
      " [False]\n",
      " [False]\n",
      " [False]\n",
      " [False]\n",
      " [False]\n",
      " [False]\n",
      " [False]\n",
      " [ True]\n",
      " [ True]\n",
      " [False]\n",
      " [False]\n",
      " [False]\n",
      " [False]\n",
      " [False]\n",
      " [False]\n",
      " [False]\n",
      " [False]\n",
      " [ True]\n",
      " [False]\n",
      " [False]\n",
      " [False]\n",
      " [False]\n",
      " [False]\n",
      " [False]\n",
      " [ True]\n",
      " [False]\n",
      " [False]\n",
      " [ True]\n",
      " [ True]\n",
      " [ True]\n",
      " [False]\n",
      " [False]\n",
      " [ True]\n",
      " [False]\n",
      " [False]\n",
      " [False]\n",
      " [False]\n",
      " [False]\n",
      " [False]\n",
      " [False]\n",
      " [False]\n",
      " [False]\n",
      " [ True]\n",
      " [False]\n",
      " [False]\n",
      " [False]\n",
      " [False]\n",
      " [False]\n",
      " [False]\n",
      " [False]\n",
      " [False]\n",
      " [ True]\n",
      " [False]\n",
      " [False]\n",
      " [False]\n",
      " [False]\n",
      " [False]\n",
      " [False]\n",
      " [False]\n",
      " [ True]\n",
      " [False]\n",
      " [False]\n",
      " [False]\n",
      " [ True]\n",
      " [False]\n",
      " [False]\n",
      " [False]\n",
      " [False]\n",
      " [False]\n",
      " [ True]\n",
      " [False]\n",
      " [False]\n",
      " [False]\n",
      " [False]\n",
      " [False]\n",
      " [False]\n",
      " [ True]\n",
      " [ True]\n",
      " [False]\n",
      " [False]\n",
      " [ True]\n",
      " [False]\n",
      " [False]\n",
      " [False]\n",
      " [False]\n",
      " [False]\n",
      " [ True]\n",
      " [False]\n",
      " [False]\n",
      " [False]\n",
      " [False]\n",
      " [False]\n",
      " [False]\n",
      " [False]\n",
      " [False]\n",
      " [False]\n",
      " [ True]\n",
      " [False]\n",
      " [ True]\n",
      " [ True]\n",
      " [False]\n",
      " [False]\n",
      " [ True]\n",
      " [False]\n",
      " [False]]\n"
     ]
    }
   ],
   "source": [
    "checking = pred_test >= 0.5\n",
    "print(checking)"
   ]
  },
  {
   "cell_type": "code",
   "execution_count": 28,
   "metadata": {},
   "outputs": [
    {
     "name": "stdout",
     "output_type": "stream",
     "text": [
      "[[0]\n",
      " [1]\n",
      " [0]\n",
      " [0]\n",
      " [0]\n",
      " [0]\n",
      " [0]\n",
      " [0]\n",
      " [0]\n",
      " [0]\n",
      " [0]\n",
      " [0]\n",
      " [0]\n",
      " [0]\n",
      " [0]\n",
      " [0]\n",
      " [0]\n",
      " [0]\n",
      " [0]\n",
      " [0]\n",
      " [0]\n",
      " [0]\n",
      " [0]\n",
      " [0]\n",
      " [0]\n",
      " [0]\n",
      " [0]\n",
      " [0]\n",
      " [0]\n",
      " [0]\n",
      " [0]\n",
      " [0]\n",
      " [1]\n",
      " [0]\n",
      " [0]\n",
      " [1]\n",
      " [0]\n",
      " [0]\n",
      " [0]\n",
      " [0]\n",
      " [0]\n",
      " [0]\n",
      " [0]\n",
      " [0]\n",
      " [0]\n",
      " [0]\n",
      " [0]\n",
      " [0]\n",
      " [0]\n",
      " [0]\n",
      " [0]\n",
      " [0]\n",
      " [0]\n",
      " [0]\n",
      " [0]\n",
      " [1]\n",
      " [0]\n",
      " [0]\n",
      " [0]\n",
      " [0]\n",
      " [0]\n",
      " [0]\n",
      " [0]\n",
      " [0]\n",
      " [0]\n",
      " [0]\n",
      " [1]\n",
      " [0]\n",
      " [0]\n",
      " [0]\n",
      " [0]\n",
      " [0]\n",
      " [0]\n",
      " [0]\n",
      " [1]\n",
      " [0]\n",
      " [0]\n",
      " [0]\n",
      " [0]\n",
      " [0]\n",
      " [0]\n",
      " [0]\n",
      " [0]\n",
      " [0]\n",
      " [1]\n",
      " [0]\n",
      " [0]\n",
      " [0]\n",
      " [0]\n",
      " [0]\n",
      " [0]\n",
      " [0]\n",
      " [0]\n",
      " [0]\n",
      " [0]\n",
      " [0]\n",
      " [0]\n",
      " [0]\n",
      " [0]\n",
      " [0]\n",
      " [0]\n",
      " [0]\n",
      " [0]\n",
      " [0]\n",
      " [0]\n",
      " [0]\n",
      " [0]\n",
      " [0]\n",
      " [0]\n",
      " [1]\n",
      " [0]\n",
      " [0]\n",
      " [0]\n",
      " [0]\n",
      " [0]\n",
      " [0]\n",
      " [0]\n",
      " [0]\n",
      " [0]\n",
      " [0]\n",
      " [0]\n",
      " [0]\n",
      " [1]\n",
      " [0]\n",
      " [0]\n",
      " [0]\n",
      " [0]\n",
      " [0]\n",
      " [0]\n",
      " [0]\n",
      " [0]\n",
      " [0]\n",
      " [0]\n",
      " [0]\n",
      " [0]\n",
      " [0]\n",
      " [0]\n",
      " [0]\n",
      " [0]\n",
      " [0]\n",
      " [0]\n",
      " [0]\n",
      " [0]\n",
      " [0]\n",
      " [0]\n",
      " [0]\n",
      " [1]\n",
      " [0]\n",
      " [0]\n",
      " [0]\n",
      " [0]\n",
      " [0]\n",
      " [0]\n",
      " [1]\n",
      " [0]\n",
      " [0]\n",
      " [0]\n",
      " [1]\n",
      " [1]\n",
      " [0]\n",
      " [0]\n",
      " [0]\n",
      " [0]\n",
      " [0]\n",
      " [0]\n",
      " [0]\n",
      " [0]\n",
      " [0]\n",
      " [0]\n",
      " [0]\n",
      " [0]\n",
      " [1]\n",
      " [0]\n",
      " [0]\n",
      " [0]\n",
      " [0]\n",
      " [0]\n",
      " [0]\n",
      " [0]\n",
      " [0]\n",
      " [1]\n",
      " [0]\n",
      " [0]\n",
      " [0]\n",
      " [0]\n",
      " [0]\n",
      " [0]\n",
      " [0]\n",
      " [0]\n",
      " [0]\n",
      " [0]\n",
      " [0]\n",
      " [1]\n",
      " [0]\n",
      " [0]\n",
      " [0]\n",
      " [0]\n",
      " [0]\n",
      " [0]\n",
      " [0]\n",
      " [0]\n",
      " [0]\n",
      " [0]\n",
      " [0]\n",
      " [0]\n",
      " [0]\n",
      " [0]\n",
      " [0]\n",
      " [0]\n",
      " [0]\n",
      " [0]\n",
      " [0]\n",
      " [0]\n",
      " [0]\n",
      " [0]\n",
      " [0]\n",
      " [0]\n",
      " [0]\n",
      " [0]\n",
      " [0]\n",
      " [0]\n",
      " [0]\n",
      " [0]\n",
      " [0]\n",
      " [0]\n",
      " [0]\n",
      " [0]\n",
      " [1]\n",
      " [0]\n",
      " [0]\n",
      " [0]\n",
      " [1]\n",
      " [0]\n",
      " [0]]\n"
     ]
    }
   ],
   "source": [
    "answer = checking.astype(int)\n",
    "print(answer)"
   ]
  },
  {
   "cell_type": "code",
   "execution_count": 93,
   "metadata": {},
   "outputs": [],
   "source": [
    "f = open(\"labels.txt\", \"w\")\n",
    "for i in range(len(answer)):\n",
    "    f.write(str(answer[i][0]) + \"\\n\")\n",
    "f.close()"
   ]
  }
 ],
 "metadata": {
  "kernelspec": {
   "display_name": "tf",
   "language": "python",
   "name": "tf"
  },
  "language_info": {
   "codemirror_mode": {
    "name": "ipython",
    "version": 3
   },
   "file_extension": ".py",
   "mimetype": "text/x-python",
   "name": "python",
   "nbconvert_exporter": "python",
   "pygments_lexer": "ipython3",
   "version": "3.6.12"
  }
 },
 "nbformat": 4,
 "nbformat_minor": 4
}
