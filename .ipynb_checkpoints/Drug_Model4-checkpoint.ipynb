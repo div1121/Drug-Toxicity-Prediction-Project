{
 "cells": [
  {
   "cell_type": "code",
   "execution_count": null,
   "metadata": {},
   "outputs": [],
   "source": [
    "import tensorflow as tf\n",
    "import numpy as np\n",
    "import matplotlib.pyplot as plt\n",
    "import random\n",
    "import csv\n",
    "import os\n",
    "import collections\n",
    "import time\n",
    "import math\n",
    "import pickle\n",
    "import re\n",
    "from tensorflow import keras\n",
    "from tensorflow.keras.regularizers import l2\n",
    "from tensorflow.keras.models import Sequential\n",
    "from tensorflow.keras.layers import BatchNormalization\n",
    "from tensorflow.keras.layers import Dropout\n",
    "from tensorflow.keras.layers import InputLayer, Input\n",
    "from tensorflow.keras.layers import Reshape, MaxPooling2D\n",
    "from tensorflow.keras.layers import Conv2D, Dense, Flatten\n",
    "from tensorflow.keras.optimizers import Adam\n",
    "from tensorflow.keras.optimizers import SGD\n",
    "from tensorflow.python.keras.models import load_model"
   ]
  },
  {
   "cell_type": "code",
   "execution_count": null,
   "metadata": {},
   "outputs": [],
   "source": [
    "tf.__version__"
   ]
  },
  {
   "cell_type": "code",
   "execution_count": null,
   "metadata": {},
   "outputs": [],
   "source": [
    "train_labels = open(\"SR-ARE-train/names_labels.txt\",\"r\")\n",
    "content = train_labels.read()\n",
    "#print(content)"
   ]
  },
  {
   "cell_type": "code",
   "execution_count": null,
   "metadata": {},
   "outputs": [],
   "source": [
    "content_list = re.split(\",|\\n\",content)\n",
    "#print(content_list)\n",
    "#print(len(content_list))\n",
    "\n",
    "print(content_list.count(\"0\"),content_list.count(\"1\"))"
   ]
  },
  {
   "cell_type": "code",
   "execution_count": null,
   "metadata": {},
   "outputs": [],
   "source": [
    "drug_dict = {content_list[2*i]:float(content_list[2*i+1]) for i in range(len(content_list)//2)}\n",
    "#print(drug_dict)\n",
    "#print(len(drug_dict))"
   ]
  },
  {
   "cell_type": "code",
   "execution_count": null,
   "metadata": {},
   "outputs": [],
   "source": [
    "train_smiles = open(\"SR-ARE-train/names_smiles.txt\",\"r\")\n",
    "dtent = train_smiles.read()\n",
    "#print(dtent)"
   ]
  },
  {
   "cell_type": "code",
   "execution_count": null,
   "metadata": {},
   "outputs": [],
   "source": [
    "dtent_list = re.split(\",|\\n\",dtent)\n",
    "drug_name_dict = {dtent_list[2*i]:dtent_list[2*i+1] for i in range(len(dtent_list)//2)}\n",
    "#print(drug_name_dict)\n",
    "#print(len(drug_name_dict))"
   ]
  },
  {
   "cell_type": "code",
   "execution_count": null,
   "metadata": {},
   "outputs": [],
   "source": [
    "train_one_hot = open(\"SR-ARE-train/names_onehots.pickle\",\"rb\")\n",
    "rtent = pickle.load(train_one_hot)\n",
    "#print(rtent)"
   ]
  },
  {
   "cell_type": "code",
   "execution_count": null,
   "metadata": {},
   "outputs": [],
   "source": [
    "print(type(rtent))\n",
    "print(type(rtent[\"onehots\"]))\n",
    "print(rtent[\"onehots\"].shape)\n"
   ]
  },
  {
   "cell_type": "code",
   "execution_count": null,
   "metadata": {},
   "outputs": [],
   "source": [
    "print(type(rtent[\"names\"]))"
   ]
  },
  {
   "cell_type": "code",
   "execution_count": null,
   "metadata": {},
   "outputs": [],
   "source": [
    "x_train = rtent[\"onehots\"]\n",
    "label = rtent[\"names\"]\n",
    "zlabel = [drug_dict[label[i]] for i in range(len(label))]\n",
    "#print(len(zlabel))\n",
    "y_train = np.array(zlabel,float)\n",
    "print(x_train.shape)\n",
    "print(y_train.shape)\n"
   ]
  },
  {
   "cell_type": "code",
   "execution_count": null,
   "metadata": {},
   "outputs": [],
   "source": [
    "correct = y_train >= 0.5\n",
    "print(correct)\n",
    "true_label = correct[correct].astype(int)\n",
    "print(true_label)\n",
    "print(len(true_label))\n",
    "true_find = x_train[correct]\n",
    "print(len(true_find))\n",
    "\n",
    "incorrect = y_train <= 0.5\n",
    "false_label = incorrect[incorrect].astype(int)\n",
    "false_find = x_train[incorrect]\n",
    "print(len(false_label))"
   ]
  },
  {
   "cell_type": "code",
   "execution_count": null,
   "metadata": {},
   "outputs": [],
   "source": [
    "weight_for_zero = 1.0 / len(false_label)\n",
    "weight_for_one = 1.0 / len(true_label)\n",
    "print(weight_for_zero,weight_for_one)"
   ]
  },
  {
   "cell_type": "code",
   "execution_count": null,
   "metadata": {},
   "outputs": [],
   "source": [
    "drug_height = x_train.shape[1]\n",
    "print(drug_height)\n",
    "drug_width = x_train.shape[2]\n",
    "print(drug_width)\n",
    "drug_shape = (drug_height , drug_width)\n",
    "print(drug_shape)\n",
    "drug_full_shape = (drug_height , drug_width,1)\n",
    "print(drug_full_shape)\n",
    "no_class = 1\n",
    "no_channel = 1"
   ]
  },
  {
   "cell_type": "code",
   "execution_count": null,
   "metadata": {},
   "outputs": [],
   "source": [
    "def find_formula(dictlist,namelabel,y):\n",
    "    for i in range(9):\n",
    "        print(namelabel[i],dictlist[namelabel[i]],y[i])"
   ]
  },
  {
   "cell_type": "code",
   "execution_count": null,
   "metadata": {},
   "outputs": [],
   "source": [
    "find_formula(drug_name_dict,label[0:9],y_train[0:9])"
   ]
  },
  {
   "cell_type": "code",
   "execution_count": null,
   "metadata": {},
   "outputs": [],
   "source": [
    "def find_example_error(pred,dictlist,namelabel,y):\n",
    "    incorrect = (pred != y)\n",
    "    namelabel = namelabel[incorrect]\n",
    "    pred = pred[incorrect]\n",
    "    find_formula(dictlist,namelabel[0:9],y[0:9])"
   ]
  },
  {
   "cell_type": "code",
   "execution_count": null,
   "metadata": {},
   "outputs": [],
   "source": []
  },
  {
   "cell_type": "code",
   "execution_count": null,
   "metadata": {},
   "outputs": [],
   "source": [
    "model = Sequential()\n",
    "model.add(InputLayer(input_shape=(drug_height,drug_width,)))\n",
    "\n",
    "model.add(Reshape(drug_full_shape))\n",
    "\n",
    "model.add(Conv2D(kernel_size=(1,16),strides=1,filters=8,padding='same',activation='relu',name=\"conv1\"))\n",
    "model.add(BatchNormalization())\n",
    "model.add(MaxPooling2D(pool_size=(1,4), strides=(1,4),padding='same'))\n",
    "\n",
    "model.add(Conv2D(kernel_size=(1,16),strides=1,filters=16,padding='same',activation='relu',name=\"conv2\"))\n",
    "model.add(BatchNormalization())\n",
    "model.add(MaxPooling2D(pool_size=(1,4), strides=(1,4),padding='same'))\n",
    "\n",
    "model.add(Conv2D(kernel_size=(1,16),strides=1,filters=32,padding='same',activation='relu',name=\"conv3\"))\n",
    "model.add(BatchNormalization())\n",
    "model.add(MaxPooling2D(pool_size=(1,4), strides=(1,4),padding='same'))\n",
    "\n",
    "model.add(Flatten())\n",
    "\n",
    "model.add(Dense(no_class,activation=\"sigmoid\",kernel_regularizer=l2(0.01), bias_regularizer=l2(0.01)))\n",
    "\n"
   ]
  },
  {
   "cell_type": "code",
   "execution_count": null,
   "metadata": {},
   "outputs": [],
   "source": [
    "print(model.summary())"
   ]
  },
  {
   "cell_type": "code",
   "execution_count": null,
   "metadata": {},
   "outputs": [],
   "source": [
    "optimizer = Adam(lr=1e-4)"
   ]
  },
  {
   "cell_type": "code",
   "execution_count": null,
   "metadata": {},
   "outputs": [],
   "source": [
    "metrics = [\n",
    "    keras.metrics.BinaryAccuracy(name=\"accuracy\"),\n",
    "    keras.metrics.FalseNegatives(name=\"fn\"),\n",
    "    keras.metrics.FalsePositives(name=\"fp\"),\n",
    "    keras.metrics.TrueNegatives(name=\"tn\"),\n",
    "    keras.metrics.TruePositives(name=\"tp\"),\n",
    "    keras.metrics.Precision(name=\"precision\"),\n",
    "    keras.metrics.Recall(name=\"recall\"),\n",
    "]"
   ]
  },
  {
   "cell_type": "code",
   "execution_count": null,
   "metadata": {},
   "outputs": [],
   "source": [
    "model.compile(optimizer=optimizer,loss=\"binary_crossentropy\", metrics=metrics)"
   ]
  },
  {
   "cell_type": "code",
   "execution_count": null,
   "metadata": {},
   "outputs": [],
   "source": [
    "class_weight = {0: weight_for_zero, 1: weight_for_one}"
   ]
  },
  {
   "cell_type": "code",
   "execution_count": null,
   "metadata": {},
   "outputs": [],
   "source": [
    "model.fit(x=x_train, y=y_train, epochs=1, batch_size=128,class_weight=class_weight,validation_data=(x_test, y_test))"
   ]
  },
  {
   "cell_type": "code",
   "execution_count": null,
   "metadata": {},
   "outputs": [],
   "source": [
    "#30 epochs"
   ]
  },
  {
   "cell_type": "code",
   "execution_count": null,
   "metadata": {},
   "outputs": [],
   "source": [
    "test_labels = open(\"SR-ARE-test/names_labels.txt\",\"r\")\n",
    "ttcontent = test_labels.read()"
   ]
  },
  {
   "cell_type": "code",
   "execution_count": null,
   "metadata": {},
   "outputs": [],
   "source": [
    "ttcontent_list = re.split(\",|\\n\",ttcontent)\n",
    "#print(ttcontent_list)\n",
    "#print(len(ttcontent_list))\n",
    "print(ttcontent_list.count(\"0\"),ttcontent_list.count(\"1\"))"
   ]
  },
  {
   "cell_type": "code",
   "execution_count": null,
   "metadata": {},
   "outputs": [],
   "source": [
    "ttdrug_dict = {ttcontent_list[2*i]:float(ttcontent_list[2*i+1]) for i in range(len(ttcontent_list)//2)}\n",
    "#print(drug_dict)\n",
    "#print(len(drug_dict))"
   ]
  },
  {
   "cell_type": "code",
   "execution_count": null,
   "metadata": {},
   "outputs": [],
   "source": [
    "test_smiles = open(\"SR-ARE-test/names_smiles.txt\",\"r\")\n",
    "ttdtent = test_smiles.read()\n",
    "#print(ttdtent)"
   ]
  },
  {
   "cell_type": "code",
   "execution_count": null,
   "metadata": {},
   "outputs": [],
   "source": [
    "ttdtent_list = re.split(\",|\\n\",ttdtent)\n",
    "ttdrug_name_dict = {ttdtent_list[2*i]:ttdtent_list[2*i+1] for i in range(len(ttdtent_list)//2)}\n",
    "#print(ttdrug_name_dict)\n",
    "print(len(ttdrug_name_dict))"
   ]
  },
  {
   "cell_type": "code",
   "execution_count": null,
   "metadata": {},
   "outputs": [],
   "source": [
    "test_one_hot = open(\"SR-ARE-test/names_onehots.pickle\",\"rb\")\n",
    "ttrtent = pickle.load(test_one_hot)\n",
    "#print(rtent)"
   ]
  },
  {
   "cell_type": "code",
   "execution_count": null,
   "metadata": {},
   "outputs": [],
   "source": [
    "x_test = ttrtent[\"onehots\"]\n",
    "ttlabel = ttrtent[\"names\"]\n",
    "ttzlabel = [ttdrug_dict[ttlabel[i]] for i in range(len(ttlabel))]\n",
    "#print(len(zlabel))\n",
    "y_test = np.array(ttzlabel,float)"
   ]
  },
  {
   "cell_type": "code",
   "execution_count": null,
   "metadata": {},
   "outputs": [],
   "source": [
    "result = model.evaluate(x=x_test,y=y_test)"
   ]
  },
  {
   "cell_type": "code",
   "execution_count": null,
   "metadata": {},
   "outputs": [],
   "source": [
    "result = model.evaluate(x=x_train,y=y_train)"
   ]
  },
  {
   "cell_type": "code",
   "execution_count": null,
   "metadata": {},
   "outputs": [],
   "source": [
    "for name, value in zip(model.metrics_names, result):\n",
    "    print(name, value)"
   ]
  },
  {
   "cell_type": "code",
   "execution_count": null,
   "metadata": {},
   "outputs": [],
   "source": [
    "## save model\n",
    "path_model = 'model/model4-3.keras'\n",
    "model.save(path_model)"
   ]
  },
  {
   "cell_type": "code",
   "execution_count": null,
   "metadata": {},
   "outputs": [],
   "source": [
    "path_model = 'model/model4-2.keras'\n",
    "model = tf.keras.models.load_model(path_model)"
   ]
  },
  {
   "cell_type": "code",
   "execution_count": null,
   "metadata": {},
   "outputs": [],
   "source": [
    "pred_test = model.predict(x=x_test)\n",
    "print(pred_test)"
   ]
  },
  {
   "cell_type": "code",
   "execution_count": null,
   "metadata": {},
   "outputs": [],
   "source": [
    "checking = pred_test >= 0.5\n",
    "print(checking)"
   ]
  },
  {
   "cell_type": "code",
   "execution_count": null,
   "metadata": {},
   "outputs": [],
   "source": [
    "answer = checking.astype(int)\n",
    "print(answer)"
   ]
  },
  {
   "cell_type": "code",
   "execution_count": null,
   "metadata": {},
   "outputs": [],
   "source": [
    "f = open(\"labels.txt\", \"w\")\n",
    "for i in range(len(answer)):\n",
    "    f.write(str(answer[i][0]) + \"\\n\")\n",
    "f.close()"
   ]
  }
 ],
 "metadata": {
  "kernelspec": {
   "display_name": "tf",
   "language": "python",
   "name": "tf"
  },
  "language_info": {
   "codemirror_mode": {
    "name": "ipython",
    "version": 3
   },
   "file_extension": ".py",
   "mimetype": "text/x-python",
   "name": "python",
   "nbconvert_exporter": "python",
   "pygments_lexer": "ipython3",
   "version": "3.6.12"
  }
 },
 "nbformat": 4,
 "nbformat_minor": 4
}
