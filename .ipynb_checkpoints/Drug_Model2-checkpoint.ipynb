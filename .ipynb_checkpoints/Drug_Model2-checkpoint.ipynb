{
 "cells": [
  {
   "cell_type": "code",
   "execution_count": 30,
   "metadata": {},
   "outputs": [],
   "source": [
    "import tensorflow as tf\n",
    "import numpy as np\n",
    "import matplotlib.pyplot as plt\n",
    "import random\n",
    "import csv\n",
    "import os\n",
    "import collections\n",
    "import time\n",
    "import math\n",
    "import pickle\n",
    "import re\n",
    "from tensorflow import keras\n",
    "from tensorflow.keras.models import Sequential\n",
    "from tensorflow.keras.layers import BatchNormalization\n",
    "from tensorflow.keras.layers import Dropout\n",
    "from tensorflow.keras.layers import InputLayer, Input\n",
    "from tensorflow.keras.layers import Reshape, MaxPooling2D\n",
    "from tensorflow.keras.layers import Conv2D, Dense, Flatten\n",
    "from tensorflow.keras.optimizers import Adam\n",
    "from tensorflow.python.keras.models import load_model"
   ]
  },
  {
   "cell_type": "code",
   "execution_count": 31,
   "metadata": {},
   "outputs": [
    {
     "data": {
      "text/plain": [
       "'1.15.4'"
      ]
     },
     "execution_count": 31,
     "metadata": {},
     "output_type": "execute_result"
    }
   ],
   "source": [
    "tf.__version__"
   ]
  },
  {
   "cell_type": "code",
   "execution_count": 32,
   "metadata": {},
   "outputs": [],
   "source": [
    "train_labels = open(\"SR-ARE-train/names_labels.txt\",\"r\")\n",
    "content = train_labels.read()\n",
    "#print(content)"
   ]
  },
  {
   "cell_type": "code",
   "execution_count": 33,
   "metadata": {},
   "outputs": [
    {
     "name": "stdout",
     "output_type": "stream",
     "text": [
      "6069 1098\n"
     ]
    }
   ],
   "source": [
    "content_list = re.split(\",|\\n\",content)\n",
    "#print(content_list)\n",
    "#print(len(content_list))\n",
    "\n",
    "print(content_list.count(\"0\"),content_list.count(\"1\"))"
   ]
  },
  {
   "cell_type": "code",
   "execution_count": 34,
   "metadata": {},
   "outputs": [],
   "source": [
    "drug_dict = {content_list[2*i]:float(content_list[2*i+1]) for i in range(len(content_list)//2)}\n",
    "#print(drug_dict)\n",
    "#print(len(drug_dict))"
   ]
  },
  {
   "cell_type": "code",
   "execution_count": 35,
   "metadata": {},
   "outputs": [],
   "source": [
    "train_smiles = open(\"SR-ARE-train/names_smiles.txt\",\"r\")\n",
    "dtent = train_smiles.read()\n",
    "#print(dtent)"
   ]
  },
  {
   "cell_type": "code",
   "execution_count": 36,
   "metadata": {},
   "outputs": [],
   "source": [
    "dtent_list = re.split(\",|\\n\",dtent)\n",
    "drug_name_dict = {dtent_list[2*i]:dtent_list[2*i+1] for i in range(len(dtent_list)//2)}\n",
    "#print(drug_name_dict)\n",
    "#print(len(drug_name_dict))"
   ]
  },
  {
   "cell_type": "code",
   "execution_count": 37,
   "metadata": {},
   "outputs": [],
   "source": [
    "train_one_hot = open(\"SR-ARE-train/names_onehots.pickle\",\"rb\")\n",
    "rtent = pickle.load(train_one_hot)\n",
    "#print(rtent)"
   ]
  },
  {
   "cell_type": "code",
   "execution_count": 38,
   "metadata": {},
   "outputs": [
    {
     "name": "stdout",
     "output_type": "stream",
     "text": [
      "<class 'dict'>\n",
      "<class 'numpy.ndarray'>\n",
      "(7167, 70, 325)\n"
     ]
    }
   ],
   "source": [
    "print(type(rtent))\n",
    "print(type(rtent[\"onehots\"]))\n",
    "print(rtent[\"onehots\"].shape)\n"
   ]
  },
  {
   "cell_type": "code",
   "execution_count": 39,
   "metadata": {},
   "outputs": [
    {
     "name": "stdout",
     "output_type": "stream",
     "text": [
      "<class 'list'>\n"
     ]
    }
   ],
   "source": [
    "print(type(rtent[\"names\"]))"
   ]
  },
  {
   "cell_type": "code",
   "execution_count": 40,
   "metadata": {},
   "outputs": [
    {
     "name": "stdout",
     "output_type": "stream",
     "text": [
      "(7167, 70, 325)\n",
      "(7167,)\n"
     ]
    }
   ],
   "source": [
    "x_train = rtent[\"onehots\"]\n",
    "label = rtent[\"names\"]\n",
    "zlabel = [drug_dict[label[i]] for i in range(len(label))]\n",
    "#print(len(zlabel))\n",
    "y_train = np.array(zlabel,float)\n",
    "print(x_train.shape)\n",
    "print(y_train.shape)\n"
   ]
  },
  {
   "cell_type": "code",
   "execution_count": 41,
   "metadata": {},
   "outputs": [
    {
     "name": "stdout",
     "output_type": "stream",
     "text": [
      "[False  True False ... False False  True]\n",
      "[1 1 1 ... 1 1 1]\n",
      "1098\n",
      "1098\n",
      "6069\n"
     ]
    }
   ],
   "source": [
    "correct = y_train >= 0.5\n",
    "print(correct)\n",
    "true_label = correct[correct].astype(int)\n",
    "print(true_label)\n",
    "print(len(true_label))\n",
    "true_find = x_train[correct]\n",
    "print(len(true_find))\n",
    "\n",
    "incorrect = y_train <= 0.5\n",
    "false_label = incorrect[incorrect].astype(int)\n",
    "false_find = x_train[incorrect]\n",
    "print(len(false_label))"
   ]
  },
  {
   "cell_type": "code",
   "execution_count": 42,
   "metadata": {},
   "outputs": [
    {
     "name": "stdout",
     "output_type": "stream",
     "text": [
      "0.00016477179106936892 0.0009107468123861566\n"
     ]
    }
   ],
   "source": [
    "weight_for_zero = 1.0 / len(false_label)\n",
    "weight_for_one = 1.0 / len(true_label)\n",
    "print(weight_for_zero,weight_for_one)"
   ]
  },
  {
   "cell_type": "code",
   "execution_count": 43,
   "metadata": {},
   "outputs": [
    {
     "name": "stdout",
     "output_type": "stream",
     "text": [
      "70\n",
      "325\n",
      "(70, 325)\n",
      "(70, 325, 1)\n"
     ]
    }
   ],
   "source": [
    "drug_height = x_train.shape[1]\n",
    "print(drug_height)\n",
    "drug_width = x_train.shape[2]\n",
    "print(drug_width)\n",
    "drug_shape = (drug_height , drug_width)\n",
    "print(drug_shape)\n",
    "drug_full_shape = (drug_height , drug_width,1)\n",
    "print(drug_full_shape)\n",
    "no_class = 1\n",
    "no_channel = 1"
   ]
  },
  {
   "cell_type": "code",
   "execution_count": 15,
   "metadata": {},
   "outputs": [],
   "source": [
    "def find_formula(dictlist,namelabel,y):\n",
    "    for i in range(9):\n",
    "        print(namelabel[i],dictlist[namelabel[i]],y[i])"
   ]
  },
  {
   "cell_type": "code",
   "execution_count": 14,
   "metadata": {},
   "outputs": [
    {
     "name": "stdout",
     "output_type": "stream",
     "text": [
      "NCGC00254346-01 CC(C)=CCC\\C(C)=C/CO 0.0\n",
      "NCGC00254668-01 FC1=CC=CC(F)=C1C(=O)NC(=O)NC2=C(F)C=C(OC3=C(Cl)C=C(C=C3)C(F)(F)F)C=C2 1.0\n",
      "NCGC00015646-05 Cl.CC1=CNN=C1 0.0\n",
      "NCGC00255698-01 CC1(C)[C@H](C=C(Cl)Cl)[C@@H]1C(=O)O[C@@H](C#N)C2=CC=CC(OC3=CC=CC=C3)=C2 0.0\n",
      "NCGC00160628-03 C[C@@H]1O[C@@H](OC[C@H]2O[C@@H](OC3=C(OC4=C(C3=O)C(O)=CC(O)=C4)C5=CC(O)=C(O)C=C5)[C@H](O)[C@@H](O)[C@@H]2O)[C@H](O)[C@H](O)[C@H]1O 0.0\n",
      "NCGC00255567-01 CCCCCCOC1=C(C=CC=C1)C(O)=O 0.0\n",
      "NCGC00262943-01 OCCNCCO.CC(OC(=O)C1(C)CCC(C(O)=O)C1(C)C)C2=CC=C(C)C=C2 0.0\n",
      "NCGC00256129-01 CCCCOC(=O)CCCCCCCC(=O)OCCCC 0.0\n",
      "NCGC00016666-06 Br.COC1=C2CN(C)CCC2=CC3=C1OCO3 0.0\n"
     ]
    }
   ],
   "source": [
    "find_formula(drug_name_dict,label[0:9],y_train[0:9])"
   ]
  },
  {
   "cell_type": "code",
   "execution_count": 16,
   "metadata": {},
   "outputs": [],
   "source": [
    "def find_example_error(pred,dictlist,namelabel,y):\n",
    "    incorrect = (pred != y)\n",
    "    namelabel = namelabel[incorrect]\n",
    "    pred = pred[incorrect]\n",
    "    find_formula(dictlist,namelabel[0:9],y[0:9])"
   ]
  },
  {
   "cell_type": "code",
   "execution_count": 18,
   "metadata": {},
   "outputs": [
    {
     "name": "stdout",
     "output_type": "stream",
     "text": [
      "WARNING:tensorflow:From C:\\Users\\user\\Anaconda3\\envs\\tf\\lib\\site-packages\\tensorflow_core\\python\\ops\\resource_variable_ops.py:1630: calling BaseResourceVariable.__init__ (from tensorflow.python.ops.resource_variable_ops) with constraint is deprecated and will be removed in a future version.\n",
      "Instructions for updating:\n",
      "If using Keras pass *_constraint arguments to layers.\n"
     ]
    }
   ],
   "source": [
    "model = Sequential()\n",
    "model.add(InputLayer(input_shape=(drug_height,drug_width,)))\n",
    "\n",
    "model.add(Reshape(drug_full_shape))\n",
    "\n",
    "model.add(Conv2D(kernel_size=(1,16),strides=1,filters=8,padding='same',activation='relu',name=\"conv1\"))\n",
    "model.add(BatchNormalization())\n",
    "model.add(MaxPooling2D(pool_size=(1,2), strides=(1,2),padding='same'))\n",
    "\n",
    "model.add(Conv2D(kernel_size=(1,16),strides=1,filters=16,padding='same',activation='relu',name=\"conv2\"))\n",
    "model.add(BatchNormalization())\n",
    "model.add(MaxPooling2D(pool_size=(1,2), strides=(1,2),padding='same'))\n",
    "\n",
    "model.add(Conv2D(kernel_size=(1,16),strides=1,filters=32,padding='same',activation='relu',name=\"conv3\"))\n",
    "model.add(BatchNormalization())\n",
    "model.add(MaxPooling2D(pool_size=(1,2), strides=(1,2),padding='same'))\n",
    "\n",
    "model.add(Flatten())\n",
    "\n",
    "model.add(Dense(140,activation=\"relu\"))\n",
    "model.add(Dropout(0.3))\n",
    "\n",
    "model.add(Dense(no_class,activation=\"sigmoid\"))\n",
    "\n"
   ]
  },
  {
   "cell_type": "code",
   "execution_count": 19,
   "metadata": {},
   "outputs": [
    {
     "name": "stdout",
     "output_type": "stream",
     "text": [
      "Model: \"sequential\"\n",
      "_________________________________________________________________\n",
      "Layer (type)                 Output Shape              Param #   \n",
      "=================================================================\n",
      "reshape (Reshape)            (None, 70, 325, 1)        0         \n",
      "_________________________________________________________________\n",
      "conv1 (Conv2D)               (None, 70, 325, 8)        136       \n",
      "_________________________________________________________________\n",
      "batch_normalization (BatchNo (None, 70, 325, 8)        32        \n",
      "_________________________________________________________________\n",
      "max_pooling2d (MaxPooling2D) (None, 70, 163, 8)        0         \n",
      "_________________________________________________________________\n",
      "conv2 (Conv2D)               (None, 70, 163, 16)       2064      \n",
      "_________________________________________________________________\n",
      "batch_normalization_1 (Batch (None, 70, 163, 16)       64        \n",
      "_________________________________________________________________\n",
      "max_pooling2d_1 (MaxPooling2 (None, 70, 82, 16)        0         \n",
      "_________________________________________________________________\n",
      "conv3 (Conv2D)               (None, 70, 82, 32)        8224      \n",
      "_________________________________________________________________\n",
      "batch_normalization_2 (Batch (None, 70, 82, 32)        128       \n",
      "_________________________________________________________________\n",
      "max_pooling2d_2 (MaxPooling2 (None, 70, 41, 32)        0         \n",
      "_________________________________________________________________\n",
      "flatten (Flatten)            (None, 91840)             0         \n",
      "_________________________________________________________________\n",
      "dense (Dense)                (None, 140)               12857740  \n",
      "_________________________________________________________________\n",
      "dropout (Dropout)            (None, 140)               0         \n",
      "_________________________________________________________________\n",
      "dense_1 (Dense)              (None, 1)                 141       \n",
      "=================================================================\n",
      "Total params: 12,868,529\n",
      "Trainable params: 12,868,417\n",
      "Non-trainable params: 112\n",
      "_________________________________________________________________\n",
      "None\n"
     ]
    }
   ],
   "source": [
    "print(model.summary())"
   ]
  },
  {
   "cell_type": "code",
   "execution_count": 20,
   "metadata": {},
   "outputs": [],
   "source": [
    "optimizer = Adam(lr=1e-4)"
   ]
  },
  {
   "cell_type": "code",
   "execution_count": 21,
   "metadata": {},
   "outputs": [],
   "source": [
    "metrics = [\n",
    "    keras.metrics.BinaryAccuracy(name=\"accuracy\"),\n",
    "    keras.metrics.FalseNegatives(name=\"fn\"),\n",
    "    keras.metrics.FalsePositives(name=\"fp\"),\n",
    "    keras.metrics.TrueNegatives(name=\"tn\"),\n",
    "    keras.metrics.TruePositives(name=\"tp\"),\n",
    "    keras.metrics.Precision(name=\"precision\"),\n",
    "    keras.metrics.Recall(name=\"recall\"),\n",
    "]"
   ]
  },
  {
   "cell_type": "code",
   "execution_count": 26,
   "metadata": {},
   "outputs": [],
   "source": [
    "class_weight = {0: weight_for_zero, 1: weight_for_one}"
   ]
  },
  {
   "cell_type": "code",
   "execution_count": 23,
   "metadata": {},
   "outputs": [
    {
     "name": "stdout",
     "output_type": "stream",
     "text": [
      "WARNING:tensorflow:From C:\\Users\\user\\Anaconda3\\envs\\tf\\lib\\site-packages\\tensorflow_core\\python\\ops\\nn_impl.py:183: where (from tensorflow.python.ops.array_ops) is deprecated and will be removed in a future version.\n",
      "Instructions for updating:\n",
      "Use tf.where in 2.0, which has the same broadcast rule as np.where\n"
     ]
    }
   ],
   "source": [
    "model.compile(optimizer=optimizer,loss=\"binary_crossentropy\", metrics=metrics)"
   ]
  },
  {
   "cell_type": "code",
   "execution_count": 97,
   "metadata": {},
   "outputs": [
    {
     "name": "stdout",
     "output_type": "stream",
     "text": [
      "Train on 7167 samples\n",
      "7167/7167 [==============================] - 233s 33ms/sample - loss: 1.5290e-05 - accuracy: 0.9833 - fn: 13.0000 - fp: 107.0000 - tn: 5962.0000 - tp: 1085.0000 - precision: 0.9102 - recall: 0.9882\n"
     ]
    },
    {
     "data": {
      "text/plain": [
       "<tensorflow.python.keras.callbacks.History at 0x2cd05a69d30>"
      ]
     },
     "execution_count": 97,
     "metadata": {},
     "output_type": "execute_result"
    }
   ],
   "source": [
    "model.fit(x=x_train, y=y_train, epochs=1, batch_size=128,class_weight=class_weight)"
   ]
  },
  {
   "cell_type": "code",
   "execution_count": null,
   "metadata": {},
   "outputs": [],
   "source": [
    "#30 epochs"
   ]
  },
  {
   "cell_type": "code",
   "execution_count": 46,
   "metadata": {},
   "outputs": [],
   "source": [
    "test_labels = open(\"SR-ARE-test/names_labels.txt\",\"r\")\n",
    "ttcontent = test_labels.read()"
   ]
  },
  {
   "cell_type": "code",
   "execution_count": 47,
   "metadata": {},
   "outputs": [
    {
     "name": "stdout",
     "output_type": "stream",
     "text": [
      "186 48\n"
     ]
    }
   ],
   "source": [
    "ttcontent_list = re.split(\",|\\n\",ttcontent)\n",
    "#print(ttcontent_list)\n",
    "#print(len(ttcontent_list))\n",
    "print(ttcontent_list.count(\"0\"),ttcontent_list.count(\"1\"))"
   ]
  },
  {
   "cell_type": "code",
   "execution_count": 48,
   "metadata": {},
   "outputs": [],
   "source": [
    "ttdrug_dict = {ttcontent_list[2*i]:float(ttcontent_list[2*i+1]) for i in range(len(ttcontent_list)//2)}\n",
    "#print(drug_dict)\n",
    "#print(len(drug_dict))"
   ]
  },
  {
   "cell_type": "code",
   "execution_count": 49,
   "metadata": {},
   "outputs": [],
   "source": [
    "test_smiles = open(\"SR-ARE-test/names_smiles.txt\",\"r\")\n",
    "ttdtent = test_smiles.read()\n",
    "#print(ttdtent)"
   ]
  },
  {
   "cell_type": "code",
   "execution_count": 50,
   "metadata": {},
   "outputs": [
    {
     "name": "stdout",
     "output_type": "stream",
     "text": [
      "234\n"
     ]
    }
   ],
   "source": [
    "ttdtent_list = re.split(\",|\\n\",ttdtent)\n",
    "ttdrug_name_dict = {ttdtent_list[2*i]:ttdtent_list[2*i+1] for i in range(len(ttdtent_list)//2)}\n",
    "#print(ttdrug_name_dict)\n",
    "print(len(ttdrug_name_dict))"
   ]
  },
  {
   "cell_type": "code",
   "execution_count": 51,
   "metadata": {},
   "outputs": [],
   "source": [
    "test_one_hot = open(\"SR-ARE-test/names_onehots.pickle\",\"rb\")\n",
    "ttrtent = pickle.load(test_one_hot)\n",
    "#print(rtent)"
   ]
  },
  {
   "cell_type": "code",
   "execution_count": 52,
   "metadata": {},
   "outputs": [],
   "source": [
    "x_test = ttrtent[\"onehots\"]\n",
    "ttlabel = ttrtent[\"names\"]\n",
    "ttzlabel = [ttdrug_dict[ttlabel[i]] for i in range(len(ttlabel))]\n",
    "#print(len(zlabel))\n",
    "y_test = np.array(ttzlabel,float)"
   ]
  },
  {
   "cell_type": "code",
   "execution_count": 98,
   "metadata": {},
   "outputs": [
    {
     "name": "stdout",
     "output_type": "stream",
     "text": [
      "234/234 [==============================] - 1s 5ms/sample - loss: 0.9415 - accuracy: 0.7479 - fn: 39.0000 - fp: 20.0000 - tn: 166.0000 - tp: 9.0000 - precision: 0.3103 - recall: 0.1875\n"
     ]
    }
   ],
   "source": [
    "result = model.evaluate(x=x_test,y=y_test)"
   ]
  },
  {
   "cell_type": "code",
   "execution_count": 63,
   "metadata": {},
   "outputs": [
    {
     "name": "stdout",
     "output_type": "stream",
     "text": [
      "Train on 234 samples\n",
      "Epoch 1/2\n",
      "234/234 [==============================] - 6s 27ms/sample - loss: 0.1561 - accuracy: 0.9444 - fn: 7.0000 - fp: 6.0000 - tn: 180.0000 - tp: 41.0000 - precision: 0.8723 - recall: 0.8542\n",
      "Epoch 2/2\n",
      "234/234 [==============================] - 7s 28ms/sample - loss: 0.0882 - accuracy: 0.9701 - fn: 7.0000 - fp: 0.0000e+00 - tn: 186.0000 - tp: 41.0000 - precision: 1.0000 - recall: 0.8542\n"
     ]
    },
    {
     "data": {
      "text/plain": [
       "<tensorflow.python.keras.callbacks.History at 0x2cd015aaef0>"
      ]
     },
     "execution_count": 63,
     "metadata": {},
     "output_type": "execute_result"
    }
   ],
   "source": [
    "model.fit(x=x_test, y=y_test, epochs=2, batch_size=64)"
   ]
  },
  {
   "cell_type": "code",
   "execution_count": 81,
   "metadata": {},
   "outputs": [
    {
     "name": "stdout",
     "output_type": "stream",
     "text": [
      "loss 0.6891390533528776\n",
      "acc 0.7905983\n"
     ]
    }
   ],
   "source": [
    "for name, value in zip(model.metrics_names, result):\n",
    "    print(name, value)"
   ]
  },
  {
   "cell_type": "code",
   "execution_count": 99,
   "metadata": {},
   "outputs": [],
   "source": [
    "#save model\n",
    "path_model = 'model/model2-1.keras'\n",
    "model.save(path_model)"
   ]
  },
  {
   "cell_type": "code",
   "execution_count": 66,
   "metadata": {},
   "outputs": [],
   "source": [
    "path_model = 'model/model2-1.keras'\n",
    "model = tf.keras.models.load_model(path_model)"
   ]
  },
  {
   "cell_type": "code",
   "execution_count": 33,
   "metadata": {},
   "outputs": [
    {
     "name": "stdout",
     "output_type": "stream",
     "text": [
      "[[0.4739284 ]\n",
      " [0.47804084]\n",
      " [0.46564117]\n",
      " [0.46704525]\n",
      " [0.47187254]\n",
      " [0.47058776]\n",
      " [0.465124  ]\n",
      " [0.46949452]\n",
      " [0.4864085 ]\n",
      " [0.4693296 ]\n",
      " [0.4780901 ]\n",
      " [0.46737242]\n",
      " [0.48747426]\n",
      " [0.49174497]\n",
      " [0.47168413]\n",
      " [0.4722297 ]\n",
      " [0.47147113]\n",
      " [0.4722702 ]\n",
      " [0.4645362 ]\n",
      " [0.46777347]\n",
      " [0.4670035 ]\n",
      " [0.46454284]\n",
      " [0.47184926]\n",
      " [0.4678263 ]\n",
      " [0.47725335]\n",
      " [0.46419954]\n",
      " [0.48286912]\n",
      " [0.47849268]\n",
      " [0.4753865 ]\n",
      " [0.47663707]\n",
      " [0.46531707]\n",
      " [0.47669727]\n",
      " [0.47997656]\n",
      " [0.46524394]\n",
      " [0.47358137]\n",
      " [0.4731608 ]\n",
      " [0.47263566]\n",
      " [0.4663907 ]\n",
      " [0.4762288 ]\n",
      " [0.4689682 ]\n",
      " [0.47034287]\n",
      " [0.4749545 ]\n",
      " [0.47354317]\n",
      " [0.4734465 ]\n",
      " [0.47255018]\n",
      " [0.47863886]\n",
      " [0.46935716]\n",
      " [0.46632063]\n",
      " [0.47340816]\n",
      " [0.47573927]\n",
      " [0.47246367]\n",
      " [0.47454286]\n",
      " [0.46573448]\n",
      " [0.4679682 ]\n",
      " [0.46832836]\n",
      " [0.48033926]\n",
      " [0.47279117]\n",
      " [0.47572324]\n",
      " [0.4651072 ]\n",
      " [0.47401324]\n",
      " [0.46596706]\n",
      " [0.46430013]\n",
      " [0.47487006]\n",
      " [0.47323728]\n",
      " [0.4734092 ]\n",
      " [0.47130877]\n",
      " [0.46437982]\n",
      " [0.46599114]\n",
      " [0.47081602]\n",
      " [0.46252587]\n",
      " [0.47257516]\n",
      " [0.46310407]\n",
      " [0.4678454 ]\n",
      " [0.465026  ]\n",
      " [0.47684848]\n",
      " [0.4617725 ]\n",
      " [0.47057992]\n",
      " [0.4753618 ]\n",
      " [0.47538865]\n",
      " [0.4733966 ]\n",
      " [0.4642461 ]\n",
      " [0.47388035]\n",
      " [0.47031453]\n",
      " [0.48259673]\n",
      " [0.4706073 ]\n",
      " [0.4885475 ]\n",
      " [0.4662943 ]\n",
      " [0.4694566 ]\n",
      " [0.47258434]\n",
      " [0.4672378 ]\n",
      " [0.46430194]\n",
      " [0.47485107]\n",
      " [0.46649557]\n",
      " [0.4730568 ]\n",
      " [0.46459153]\n",
      " [0.47879997]\n",
      " [0.46884283]\n",
      " [0.47752655]\n",
      " [0.462688  ]\n",
      " [0.4654894 ]\n",
      " [0.47342652]\n",
      " [0.47432187]\n",
      " [0.468665  ]\n",
      " [0.47082174]\n",
      " [0.46438113]\n",
      " [0.46409562]\n",
      " [0.4683692 ]\n",
      " [0.47370738]\n",
      " [0.4683693 ]\n",
      " [0.48294625]\n",
      " [0.47899342]\n",
      " [0.46775007]\n",
      " [0.4631336 ]\n",
      " [0.46474382]\n",
      " [0.47352615]\n",
      " [0.46317983]\n",
      " [0.4764709 ]\n",
      " [0.46573913]\n",
      " [0.46583915]\n",
      " [0.46382585]\n",
      " [0.4815547 ]\n",
      " [0.47664955]\n",
      " [0.47904518]\n",
      " [0.47543013]\n",
      " [0.4719757 ]\n",
      " [0.48154625]\n",
      " [0.47682607]\n",
      " [0.47141206]\n",
      " [0.46415457]\n",
      " [0.46830204]\n",
      " [0.48489833]\n",
      " [0.4739081 ]\n",
      " [0.4736007 ]\n",
      " [0.46350074]\n",
      " [0.46605137]\n",
      " [0.47877157]\n",
      " [0.47618836]\n",
      " [0.47337276]\n",
      " [0.4620524 ]\n",
      " [0.47057137]\n",
      " [0.47462538]\n",
      " [0.4680933 ]\n",
      " [0.46538347]\n",
      " [0.46833035]\n",
      " [0.46177763]\n",
      " [0.46779388]\n",
      " [0.4800443 ]\n",
      " [0.46695757]\n",
      " [0.4830575 ]\n",
      " [0.47398487]\n",
      " [0.47077918]\n",
      " [0.4697797 ]\n",
      " [0.47384268]\n",
      " [0.47402272]\n",
      " [0.4722116 ]\n",
      " [0.46454027]\n",
      " [0.47611117]\n",
      " [0.4713843 ]\n",
      " [0.4788177 ]\n",
      " [0.47280923]\n",
      " [0.47450143]\n",
      " [0.47500002]\n",
      " [0.47489622]\n",
      " [0.48604622]\n",
      " [0.46398538]\n",
      " [0.46160248]\n",
      " [0.4772677 ]\n",
      " [0.47672895]\n",
      " [0.46392792]\n",
      " [0.46914396]\n",
      " [0.47235978]\n",
      " [0.47116473]\n",
      " [0.46464366]\n",
      " [0.4720681 ]\n",
      " [0.46168685]\n",
      " [0.47425467]\n",
      " [0.46416304]\n",
      " [0.46881977]\n",
      " [0.48007074]\n",
      " [0.4675537 ]\n",
      " [0.47096762]\n",
      " [0.48216608]\n",
      " [0.47722712]\n",
      " [0.46265674]\n",
      " [0.46628472]\n",
      " [0.4697225 ]\n",
      " [0.46555862]\n",
      " [0.47276932]\n",
      " [0.46886003]\n",
      " [0.46134898]\n",
      " [0.47228283]\n",
      " [0.47728366]\n",
      " [0.4693995 ]\n",
      " [0.46737906]\n",
      " [0.47549823]\n",
      " [0.4643703 ]\n",
      " [0.4726163 ]\n",
      " [0.4759784 ]\n",
      " [0.4708571 ]\n",
      " [0.47322002]\n",
      " [0.46649995]\n",
      " [0.46627426]\n",
      " [0.473913  ]\n",
      " [0.47991383]\n",
      " [0.475486  ]\n",
      " [0.47305703]\n",
      " [0.47078487]\n",
      " [0.47357515]\n",
      " [0.4716338 ]\n",
      " [0.4708308 ]\n",
      " [0.46709186]\n",
      " [0.47330597]\n",
      " [0.4711459 ]\n",
      " [0.4638184 ]\n",
      " [0.47165075]\n",
      " [0.47825885]\n",
      " [0.47172764]\n",
      " [0.47035676]\n",
      " [0.47934195]\n",
      " [0.4755538 ]\n",
      " [0.474449  ]\n",
      " [0.46649936]\n",
      " [0.47669616]\n",
      " [0.46777862]\n",
      " [0.47434053]\n",
      " [0.47514015]\n",
      " [0.4672666 ]\n",
      " [0.47680223]\n",
      " [0.46779343]\n",
      " [0.46343908]\n",
      " [0.46634632]\n",
      " [0.48099205]\n",
      " [0.46706042]\n",
      " [0.4803416 ]]\n"
     ]
    }
   ],
   "source": [
    "pred_test = model.predict(x=x_test)\n",
    "print(pred_test)"
   ]
  },
  {
   "cell_type": "code",
   "execution_count": 34,
   "metadata": {},
   "outputs": [
    {
     "name": "stdout",
     "output_type": "stream",
     "text": [
      "[[False]\n",
      " [False]\n",
      " [False]\n",
      " [False]\n",
      " [False]\n",
      " [False]\n",
      " [False]\n",
      " [False]\n",
      " [False]\n",
      " [False]\n",
      " [False]\n",
      " [False]\n",
      " [False]\n",
      " [False]\n",
      " [False]\n",
      " [False]\n",
      " [False]\n",
      " [False]\n",
      " [False]\n",
      " [False]\n",
      " [False]\n",
      " [False]\n",
      " [False]\n",
      " [False]\n",
      " [False]\n",
      " [False]\n",
      " [False]\n",
      " [False]\n",
      " [False]\n",
      " [False]\n",
      " [False]\n",
      " [False]\n",
      " [False]\n",
      " [False]\n",
      " [False]\n",
      " [False]\n",
      " [False]\n",
      " [False]\n",
      " [False]\n",
      " [False]\n",
      " [False]\n",
      " [False]\n",
      " [False]\n",
      " [False]\n",
      " [False]\n",
      " [False]\n",
      " [False]\n",
      " [False]\n",
      " [False]\n",
      " [False]\n",
      " [False]\n",
      " [False]\n",
      " [False]\n",
      " [False]\n",
      " [False]\n",
      " [False]\n",
      " [False]\n",
      " [False]\n",
      " [False]\n",
      " [False]\n",
      " [False]\n",
      " [False]\n",
      " [False]\n",
      " [False]\n",
      " [False]\n",
      " [False]\n",
      " [False]\n",
      " [False]\n",
      " [False]\n",
      " [False]\n",
      " [False]\n",
      " [False]\n",
      " [False]\n",
      " [False]\n",
      " [False]\n",
      " [False]\n",
      " [False]\n",
      " [False]\n",
      " [False]\n",
      " [False]\n",
      " [False]\n",
      " [False]\n",
      " [False]\n",
      " [False]\n",
      " [False]\n",
      " [False]\n",
      " [False]\n",
      " [False]\n",
      " [False]\n",
      " [False]\n",
      " [False]\n",
      " [False]\n",
      " [False]\n",
      " [False]\n",
      " [False]\n",
      " [False]\n",
      " [False]\n",
      " [False]\n",
      " [False]\n",
      " [False]\n",
      " [False]\n",
      " [False]\n",
      " [False]\n",
      " [False]\n",
      " [False]\n",
      " [False]\n",
      " [False]\n",
      " [False]\n",
      " [False]\n",
      " [False]\n",
      " [False]\n",
      " [False]\n",
      " [False]\n",
      " [False]\n",
      " [False]\n",
      " [False]\n",
      " [False]\n",
      " [False]\n",
      " [False]\n",
      " [False]\n",
      " [False]\n",
      " [False]\n",
      " [False]\n",
      " [False]\n",
      " [False]\n",
      " [False]\n",
      " [False]\n",
      " [False]\n",
      " [False]\n",
      " [False]\n",
      " [False]\n",
      " [False]\n",
      " [False]\n",
      " [False]\n",
      " [False]\n",
      " [False]\n",
      " [False]\n",
      " [False]\n",
      " [False]\n",
      " [False]\n",
      " [False]\n",
      " [False]\n",
      " [False]\n",
      " [False]\n",
      " [False]\n",
      " [False]\n",
      " [False]\n",
      " [False]\n",
      " [False]\n",
      " [False]\n",
      " [False]\n",
      " [False]\n",
      " [False]\n",
      " [False]\n",
      " [False]\n",
      " [False]\n",
      " [False]\n",
      " [False]\n",
      " [False]\n",
      " [False]\n",
      " [False]\n",
      " [False]\n",
      " [False]\n",
      " [False]\n",
      " [False]\n",
      " [False]\n",
      " [False]\n",
      " [False]\n",
      " [False]\n",
      " [False]\n",
      " [False]\n",
      " [False]\n",
      " [False]\n",
      " [False]\n",
      " [False]\n",
      " [False]\n",
      " [False]\n",
      " [False]\n",
      " [False]\n",
      " [False]\n",
      " [False]\n",
      " [False]\n",
      " [False]\n",
      " [False]\n",
      " [False]\n",
      " [False]\n",
      " [False]\n",
      " [False]\n",
      " [False]\n",
      " [False]\n",
      " [False]\n",
      " [False]\n",
      " [False]\n",
      " [False]\n",
      " [False]\n",
      " [False]\n",
      " [False]\n",
      " [False]\n",
      " [False]\n",
      " [False]\n",
      " [False]\n",
      " [False]\n",
      " [False]\n",
      " [False]\n",
      " [False]\n",
      " [False]\n",
      " [False]\n",
      " [False]\n",
      " [False]\n",
      " [False]\n",
      " [False]\n",
      " [False]\n",
      " [False]\n",
      " [False]\n",
      " [False]\n",
      " [False]\n",
      " [False]\n",
      " [False]\n",
      " [False]\n",
      " [False]\n",
      " [False]\n",
      " [False]\n",
      " [False]\n",
      " [False]\n",
      " [False]\n",
      " [False]\n",
      " [False]\n",
      " [False]\n",
      " [False]\n",
      " [False]\n",
      " [False]\n",
      " [False]\n",
      " [False]\n",
      " [False]]\n"
     ]
    }
   ],
   "source": [
    "checking = pred_test >= 0.5\n",
    "print(checking)"
   ]
  },
  {
   "cell_type": "code",
   "execution_count": 35,
   "metadata": {},
   "outputs": [
    {
     "name": "stdout",
     "output_type": "stream",
     "text": [
      "[[0]\n",
      " [0]\n",
      " [0]\n",
      " [0]\n",
      " [0]\n",
      " [0]\n",
      " [0]\n",
      " [0]\n",
      " [0]\n",
      " [0]\n",
      " [0]\n",
      " [0]\n",
      " [0]\n",
      " [0]\n",
      " [0]\n",
      " [0]\n",
      " [0]\n",
      " [0]\n",
      " [0]\n",
      " [0]\n",
      " [0]\n",
      " [0]\n",
      " [0]\n",
      " [0]\n",
      " [0]\n",
      " [0]\n",
      " [0]\n",
      " [0]\n",
      " [0]\n",
      " [0]\n",
      " [0]\n",
      " [0]\n",
      " [0]\n",
      " [0]\n",
      " [0]\n",
      " [0]\n",
      " [0]\n",
      " [0]\n",
      " [0]\n",
      " [0]\n",
      " [0]\n",
      " [0]\n",
      " [0]\n",
      " [0]\n",
      " [0]\n",
      " [0]\n",
      " [0]\n",
      " [0]\n",
      " [0]\n",
      " [0]\n",
      " [0]\n",
      " [0]\n",
      " [0]\n",
      " [0]\n",
      " [0]\n",
      " [0]\n",
      " [0]\n",
      " [0]\n",
      " [0]\n",
      " [0]\n",
      " [0]\n",
      " [0]\n",
      " [0]\n",
      " [0]\n",
      " [0]\n",
      " [0]\n",
      " [0]\n",
      " [0]\n",
      " [0]\n",
      " [0]\n",
      " [0]\n",
      " [0]\n",
      " [0]\n",
      " [0]\n",
      " [0]\n",
      " [0]\n",
      " [0]\n",
      " [0]\n",
      " [0]\n",
      " [0]\n",
      " [0]\n",
      " [0]\n",
      " [0]\n",
      " [0]\n",
      " [0]\n",
      " [0]\n",
      " [0]\n",
      " [0]\n",
      " [0]\n",
      " [0]\n",
      " [0]\n",
      " [0]\n",
      " [0]\n",
      " [0]\n",
      " [0]\n",
      " [0]\n",
      " [0]\n",
      " [0]\n",
      " [0]\n",
      " [0]\n",
      " [0]\n",
      " [0]\n",
      " [0]\n",
      " [0]\n",
      " [0]\n",
      " [0]\n",
      " [0]\n",
      " [0]\n",
      " [0]\n",
      " [0]\n",
      " [0]\n",
      " [0]\n",
      " [0]\n",
      " [0]\n",
      " [0]\n",
      " [0]\n",
      " [0]\n",
      " [0]\n",
      " [0]\n",
      " [0]\n",
      " [0]\n",
      " [0]\n",
      " [0]\n",
      " [0]\n",
      " [0]\n",
      " [0]\n",
      " [0]\n",
      " [0]\n",
      " [0]\n",
      " [0]\n",
      " [0]\n",
      " [0]\n",
      " [0]\n",
      " [0]\n",
      " [0]\n",
      " [0]\n",
      " [0]\n",
      " [0]\n",
      " [0]\n",
      " [0]\n",
      " [0]\n",
      " [0]\n",
      " [0]\n",
      " [0]\n",
      " [0]\n",
      " [0]\n",
      " [0]\n",
      " [0]\n",
      " [0]\n",
      " [0]\n",
      " [0]\n",
      " [0]\n",
      " [0]\n",
      " [0]\n",
      " [0]\n",
      " [0]\n",
      " [0]\n",
      " [0]\n",
      " [0]\n",
      " [0]\n",
      " [0]\n",
      " [0]\n",
      " [0]\n",
      " [0]\n",
      " [0]\n",
      " [0]\n",
      " [0]\n",
      " [0]\n",
      " [0]\n",
      " [0]\n",
      " [0]\n",
      " [0]\n",
      " [0]\n",
      " [0]\n",
      " [0]\n",
      " [0]\n",
      " [0]\n",
      " [0]\n",
      " [0]\n",
      " [0]\n",
      " [0]\n",
      " [0]\n",
      " [0]\n",
      " [0]\n",
      " [0]\n",
      " [0]\n",
      " [0]\n",
      " [0]\n",
      " [0]\n",
      " [0]\n",
      " [0]\n",
      " [0]\n",
      " [0]\n",
      " [0]\n",
      " [0]\n",
      " [0]\n",
      " [0]\n",
      " [0]\n",
      " [0]\n",
      " [0]\n",
      " [0]\n",
      " [0]\n",
      " [0]\n",
      " [0]\n",
      " [0]\n",
      " [0]\n",
      " [0]\n",
      " [0]\n",
      " [0]\n",
      " [0]\n",
      " [0]\n",
      " [0]\n",
      " [0]\n",
      " [0]\n",
      " [0]\n",
      " [0]\n",
      " [0]\n",
      " [0]\n",
      " [0]\n",
      " [0]\n",
      " [0]\n",
      " [0]\n",
      " [0]\n",
      " [0]\n",
      " [0]\n",
      " [0]\n",
      " [0]\n",
      " [0]\n",
      " [0]\n",
      " [0]\n",
      " [0]\n",
      " [0]\n",
      " [0]\n",
      " [0]]\n"
     ]
    }
   ],
   "source": [
    "answer = checking.astype(int)\n",
    "print(answer)"
   ]
  },
  {
   "cell_type": "code",
   "execution_count": 93,
   "metadata": {},
   "outputs": [],
   "source": [
    "f = open(\"labels.txt\", \"w\")\n",
    "for i in range(len(answer)):\n",
    "    f.write(str(answer[i][0]) + \"\\n\")\n",
    "f.close()"
   ]
  }
 ],
 "metadata": {
  "kernelspec": {
   "display_name": "tf",
   "language": "python",
   "name": "tf"
  },
  "language_info": {
   "codemirror_mode": {
    "name": "ipython",
    "version": 3
   },
   "file_extension": ".py",
   "mimetype": "text/x-python",
   "name": "python",
   "nbconvert_exporter": "python",
   "pygments_lexer": "ipython3",
   "version": "3.6.12"
  }
 },
 "nbformat": 4,
 "nbformat_minor": 4
}
